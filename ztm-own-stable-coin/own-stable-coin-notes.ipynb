{
 "cells": [
  {
   "attachments": {},
   "cell_type": "markdown",
   "metadata": {},
   "source": [
    "# DeFi: Implementing Your Own Stable Coin\n",
    "\n",
    "- pegged against a rela currency, usch as USD \n",
    "- you deposit USD and they give you the digital coin \n",
    "- it's basically a gaurantee that you get your money back\n",
    "- stability of the digital coin is tied to the stability of the real currency \n",
    "- however, this is kind of centralised (not-decentralised) \n",
    "\n",
    "- there are however, examples of decentralised stable coins \n",
    "- decentralised funds - ether can be used as collateral for a stable coin\n",
    "\n",
    "- problem is the ether is unstable (price changes regularly)\n",
    "- this actually means the stable coin is kind of devalued as well\n",
    "- so one option is to over-collateralise the stable coin\n",
    "- this gives some safety margin\n",
    "- this can vary between coins\n"
   ]
  },
  {
   "attachments": {},
   "cell_type": "markdown",
   "metadata": {},
   "source": [
    "## design own stable coin \n",
    "\n",
    "- what do we need for our coin? \n",
    "- the coin (we kind of have one already)\n",
    "- we need to mint and burn\n",
    "- we need 2 roles\n",
    "- someone that stakes ether vs the stable coin\n",
    "- someone that collateralises the stable coin\n",
    "\n",
    "![build-stable-coin](stable-coin-design.png)"
   ]
  },
  {
   "attachments": {},
   "cell_type": "markdown",
   "metadata": {},
   "source": [
    "- but why would someone over-collateralise ? \n",
    "- because they get to control the rest of the spare currency? \n",
    "- what does this mean.... \n",
    "\n",
    "- user needs to deposit collateral - we will let them deposit ether\n",
    "- we also need the people to prop up the currency \n",
    "\n",
    "- the first gets stable coins\n",
    "\n",
    "- the second just gives is the safety margin\n",
    "\n",
    "- what they get\n",
    "- they have full ownership over the other spare currency\n",
    "- they don't get the stable coin, but they get a new token, some kind of 'depositor token'\n",
    "\n",
    "![stable-coin-pool](stable-coin-pool.png)"
   ]
  },
  {
   "attachments": {},
   "cell_type": "markdown",
   "metadata": {},
   "source": [
    "- this looks like above\n",
    "- most of the coin is people staking ether for stable coin\n",
    "- but there is another section that props up the coin \n",
    "- these prop-owners give the stable coin some elasticity\n",
    "\n",
    "![currency-change](value-changes.png)"
   ]
  },
  {
   "attachments": {},
   "cell_type": "markdown",
   "metadata": {},
   "source": [
    "- as the price of Ether rises\n",
    "- the people that staked ether for stable coin - still have the same value of stable coin/ether\n",
    "- but the people that just propped up the coin, they have access to the increased value of the stable coin \n",
    "\n",
    "- proffits go the the people that prop up the coin \n",
    "- but losses also come out of their share, not the regular users "
   ]
  },
  {
   "attachments": {},
   "cell_type": "markdown",
   "metadata": {},
   "source": [
    "- we can also charge fees - which supports the users that prop up the coin "
   ]
  },
  {
   "attachments": {},
   "cell_type": "markdown",
   "metadata": {},
   "source": [
    "but what happens if the value drops rapidly\n",
    "\n",
    "- if the value of the stable coin drops considerably below the value of the stake, then one of the things we might do is prevent the stablecoin holders from redeeming their collateral \n",
    "- this prevents a bank run \n",
    "- then we destroy the depositer coins \n",
    "- bad luck for them, but that's the way it goes in this kind of market scenario "
   ]
  },
  {
   "attachments": {},
   "cell_type": "markdown",
   "metadata": {},
   "source": [
    "We then need to incentivise new depositer coins again \n",
    "- this is intersting, because it kind of encourages the community to re-stake the stable coin \n",
    "- their stake is worth more at the beginning, so they are incentivised on the hopes of rapid increases in value "
   ]
  },
  {
   "attachments": {},
   "cell_type": "markdown",
   "metadata": {},
   "source": [
    "### Inheritence\n",
    "\n",
    "![inherit-1](inheritence-1.png)\n",
    "\n",
    "![inherit-2](inheritence-2.png)"
   ]
  },
  {
   "attachments": {},
   "cell_type": "markdown",
   "metadata": {},
   "source": [
    "**is** keyword ^"
   ]
  },
  {
   "attachments": {},
   "cell_type": "markdown",
   "metadata": {},
   "source": [
    "# Oracle \n",
    "\n",
    "- Oracles bring off-chain data to on-chain \n",
    "- difficult to have decentralised oracles \n",
    "- a popular provider for this is ChainLink \n",
    "- ChainLink is trying to build a decentralised network of nodes for off-chain data \n"
   ]
  }
 ],
 "metadata": {
  "language_info": {
   "name": "python"
  },
  "orig_nbformat": 4
 },
 "nbformat": 4,
 "nbformat_minor": 2
}
