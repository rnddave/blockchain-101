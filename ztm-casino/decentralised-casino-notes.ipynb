{
 "cells": [
  {
   "cell_type": "code",
   "execution_count": null,
   "metadata": {
    "vscode": {
     "languageId": "javascript"
    }
   },
   "outputs": [],
   "source": []
  },
  {
   "attachments": {},
   "cell_type": "markdown",
   "metadata": {},
   "source": [
    "# Randomness\n",
    "\n",
    "- important in programming\n",
    "- but random is tricky \n",
    "\n",
    "> Random numbers should not be generated with a method chose at random\n",
    "> Donald Knuth\n",
    "\n",
    "- [randomness on blockchain - deep dive](https://soliditydeveloper.com/2019-06-23-randomness-blockchain/)"
   ]
  },
  {
   "attachments": {},
   "cell_type": "markdown",
   "metadata": {},
   "source": [
    "### Secure randomness = difficult to acheive\n",
    "\n",
    "- blockchain needs to be deterministic \n",
    "- meaning randomness could produce a different number for same transaction each time = this is not deterministic \n",
    "\n",
    "can these be used? "
   ]
  },
  {
   "attachments": {},
   "cell_type": "markdown",
   "metadata": {},
   "source": [
    "- 1. block.number  [ number of block]\n",
    "- 2. block.timestamp\n",
    "- 3. block.difficulty\n",
    "- 4. block.gaslimit\n",
    "- 5. block.coinbase"
   ]
  },
  {
   "attachments": {},
   "cell_type": "markdown",
   "metadata": {},
   "source": [
    "- 1. this is not random at all\n",
    "- 2. not random\n",
    "- 3. not predictable\n",
    "- 4. can be changed over time by miners - not random\n",
    "- 5. miner = also not random"
   ]
  },
  {
   "attachments": {},
   "cell_type": "markdown",
   "metadata": {},
   "source": [
    "## Private Seed\n",
    "\n",
    "- great idea\n",
    "- technically not possible\n",
    "- because it is a public network\n",
    "- therefore not private\n",
    "- someone would be able to predict the seed = not random at all "
   ]
  },
  {
   "attachments": {},
   "cell_type": "markdown",
   "metadata": {},
   "source": [
    "## Block Hash\n",
    "\n",
    "- yes\n",
    "- but need to be aware of the details\n",
    "- which block are we going to use \n",
    "\n",
    "``` blockhash(block.number - 2)```\n",
    "\n",
    "- but everyone can see it and everyone knows it\n",
    "\n",
    "---\n",
    "\n",
    "- can do future block numbers when you have multiple transactions "
   ]
  },
  {
   "attachments": {},
   "cell_type": "markdown",
   "metadata": {},
   "source": [
    "### Can we always use future block numbers? \n",
    "\n",
    "- kind of depends on value of the block\n",
    "- if the value of the block is wirth less than say the prize of a lottery that's based on the random future block hash, then, the game may be manipulated"
   ]
  },
  {
   "attachments": {},
   "cell_type": "markdown",
   "metadata": {},
   "source": [
    "### Chainlink VRF\n",
    "\n",
    "- this is a random oracle \n",
    "- but need to look at this carefully \n",
    "- need to look at any oracle carefully before using \n",
    "- [chainlink VRF](https://docs.chain.link/docs/chainlink-vrf/)\n",
    "---\n"
   ]
  },
  {
   "attachments": {},
   "cell_type": "markdown",
   "metadata": {},
   "source": [
    "# Enum\n",
    "\n",
    "- small number of variables\n",
    "- days of week is a good example\n",
    "- number type that allows you to write names for each value\n",
    "\n",
    "```\n",
    "0:  Monday\n",
    "1:  Tuesday\n",
    "2:  .....\n",
    "```\n",
    "\n",
    "# Arrays\n",
    "\n",
    "- similar to arrays in other languages\n",
    "- can be fixed size or dynamic size \n",
    "- fixed cannot be resized after declaration \n",
    "- memory arrays cannot be re-sized even if declared as dynamic --- wtf\n",
    "\n",
    "--- \n",
    "\n",
    "``` \n",
    "array.length\n",
    "\n",
    "array.push()    // add item to array\n",
    "array.pop()     // pop item from end of array\n",
    "```\n",
    "\n",
    "# Mappings are kings\n",
    "\n",
    "- if there isn't a really good reason to use arrays, then use mapping instead\n"
   ]
  },
  {
   "attachments": {},
   "cell_type": "markdown",
   "metadata": {},
   "source": [
    "---\n",
    "\n",
    "# Knowing What we don't know\n",
    "\n",
    "- Randomness = no\n",
    "- Private Data - no such thing in blockchain\n",
    "- Re-Entrancy - READ ABOUT THIS\n",
    "- Checks-Effects-Interactions\n",
    "- Gas Limit and Loops\n",
    "- Emergancy Shutdown"
   ]
  },
  {
   "attachments": {},
   "cell_type": "markdown",
   "metadata": {},
   "source": [
    "# Gas Optimisations\n",
    "\n",
    "- use Solidity Optimizer\n",
    "- State / Memory / Calldata Variable Layout\n",
    "- Assemply \n",
    "- Max Contract Size (EIP-170)\n"
   ]
  },
  {
   "attachments": {},
   "cell_type": "markdown",
   "metadata": {},
   "source": [
    "# Design Patterns\n",
    "\n",
    "- Off-Chain beats On-Chain \n",
    "- Multiply before Dividing\n",
    "- Restricting Access\n",
    "- Stages\n",
    "- Withdrawals from Contracts\n",
    "- EIPs / ERCs \n"
   ]
  },
  {
   "attachments": {},
   "cell_type": "markdown",
   "metadata": {},
   "source": [
    "# Tech\n",
    "\n",
    "- Front-end\n",
    "- Truffle\n",
    "- Waffle\n",
    "- Smock\n",
    "- The Graph\n",
    "- Sourcify"
   ]
  },
  {
   "attachments": {},
   "cell_type": "markdown",
   "metadata": {},
   "source": [
    "# Other Blockchains\n",
    "\n",
    "- Layer-1 EVM Chains (polkadot  & Cosmos) \n",
    "- Layer-2 EVM Chains\n",
    "- EVM Sidechains \n",
    "\n",
    "---\n",
    "\n",
    "layer 1 = uses own securiy "
   ]
  },
  {
   "attachments": {},
   "cell_type": "markdown",
   "metadata": {},
   "source": [
    "# Future of Blockchains\n",
    "\n",
    "- Eth 2.0 \n",
    "\n",
    "- huge upgrade that is so big they decided not to call it eth2.0 anymore\n",
    "- instead lots of little updates that will eventually get to eth 2.0 \n",
    "\n",
    "- EIP 4399 - look at this for updates on randomness\n",
    "\n",
    "# Sharding\n",
    "- worth reading on this\n",
    "- kind of splits the netowkr up\n",
    "- smaller network sizes\n",
    "- only know about your own shard\n",
    "- reminds me of the network l3 protocol for learning about networks"
   ]
  },
  {
   "cell_type": "markdown",
   "metadata": {},
   "source": []
  }
 ],
 "metadata": {
  "language_info": {
   "name": "python"
  },
  "orig_nbformat": 4
 },
 "nbformat": 4,
 "nbformat_minor": 2
}
