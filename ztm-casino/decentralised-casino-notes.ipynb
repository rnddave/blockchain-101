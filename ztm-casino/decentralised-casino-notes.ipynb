{
 "cells": [
  {
   "cell_type": "code",
   "execution_count": null,
   "metadata": {
    "vscode": {
     "languageId": "javascript"
    }
   },
   "outputs": [],
   "source": []
  },
  {
   "attachments": {},
   "cell_type": "markdown",
   "metadata": {},
   "source": [
    "# Randomness\n",
    "\n",
    "- important in programming\n",
    "- but random is tricky \n",
    "\n",
    "> Random numbers should not be generated with a method chose at random\n",
    "> Donald Knuth\n",
    "\n",
    "- [randomness on blockchain - deep dive](https://soliditydeveloper.com/2019-06-23-randomness-blockchain/)"
   ]
  },
  {
   "attachments": {},
   "cell_type": "markdown",
   "metadata": {},
   "source": [
    "### Secure randomness = difficult to acheive\n",
    "\n",
    "- blockchain needs to be deterministic \n",
    "- meaning randomness could produce a different number for same transaction each time = this is not deterministic \n",
    "\n",
    "can these be used? "
   ]
  },
  {
   "attachments": {},
   "cell_type": "markdown",
   "metadata": {},
   "source": [
    "- 1. block.number  [ number of block]\n",
    "- 2. block.timestamp\n",
    "- 3. block.difficulty\n",
    "- 4. block.gaslimit\n",
    "- 5. block.coinbase"
   ]
  },
  {
   "attachments": {},
   "cell_type": "markdown",
   "metadata": {},
   "source": [
    "- 1. this is not random at all\n",
    "- 2. not random\n",
    "- 3. not predictable\n",
    "- 4. can be changed over time by miners - not random\n",
    "- 5. miner = also not random"
   ]
  },
  {
   "attachments": {},
   "cell_type": "markdown",
   "metadata": {},
   "source": [
    "## Private Seed\n",
    "\n",
    "- great idea\n",
    "- technically not possible\n",
    "- because it is a public network\n",
    "- therefore not private\n",
    "- someone would be able to predict the seed = not random at all "
   ]
  },
  {
   "attachments": {},
   "cell_type": "markdown",
   "metadata": {},
   "source": [
    "## Block Hash\n",
    "\n",
    "- yes\n",
    "- but need to be aware of the details\n",
    "- which block are we going to use \n",
    "\n",
    "``` blockhash(block.number - 2)```\n",
    "\n",
    "- but everyone can see it and everyone knows it\n",
    "\n",
    "---\n",
    "\n",
    "- can do future block numbers when you have multiple transactions "
   ]
  },
  {
   "attachments": {},
   "cell_type": "markdown",
   "metadata": {},
   "source": [
    "### Can we always use future block numbers? \n",
    "\n",
    "- kind of depends on value of the block\n",
    "- if the value of the block is wirth less than say the prize of a lottery that's based on the random future block hash, then, the game may be manipulated"
   ]
  },
  {
   "attachments": {},
   "cell_type": "markdown",
   "metadata": {},
   "source": [
    "### Chainlink VRF\n",
    "\n",
    "- this is a random oracle \n",
    "- but need to look at this carefully \n",
    "- need to look at any oracle carefully before using \n",
    "- [chainlink VRF](https://docs.chain.link/docs/chainlink-vrf/)\n",
    "---\n"
   ]
  },
  {
   "cell_type": "markdown",
   "metadata": {},
   "source": []
  }
 ],
 "metadata": {
  "language_info": {
   "name": "python"
  },
  "orig_nbformat": 4
 },
 "nbformat": 4,
 "nbformat_minor": 2
}
