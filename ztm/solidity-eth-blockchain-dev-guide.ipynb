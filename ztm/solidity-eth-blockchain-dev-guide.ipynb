{
 "cells": [
  {
   "cell_type": "markdown",
   "metadata": {},
   "source": [
    "# Solidity, Ethereum and Blockchain: The Complete Developer's Guide"
   ]
  },
  {
   "cell_type": "markdown",
   "metadata": {},
   "source": [
    "[Github Repo](https://github.com/soliditylabs/ZTM-Solidity-Code-Repository)"
   ]
  },
  {
   "cell_type": "markdown",
   "metadata": {},
   "source": [
    "## Solidity Cheat Sheet\n",
    "\n",
    "If you're just starting to learn solidity, you've made a great choice! As the core programming language used to implement smart contracts on Ethereum, it's a great language to learn if you're interested in becoming a Blockchain Developer.\n",
    "\n",
    "However, if you're stuck in an endless cycle of YouTube tutorials and want to start building real world projects, become a professional developer, have fun and actually get hired, then come join the Zero To Mastery Academy.\n",
    "\n",
    "You'll learn Solidity from an actual industry professional alongside thousands of students in our private Discord community.\n",
    "\n",
    "You'll not only learn to become a top 10% Solidity Developer by learning advanced topics most courses don't cover. But you'll also build awesome projects, including your own ERC-20 token, a stablecoin, and a decentralized casino that you can add to your portfolio and wow employers with!"
   ]
  },
  {
   "cell_type": "markdown",
   "metadata": {},
   "source": [
    "### [Structure of a Smart Contract](#structure-of-a-smart-contract)\n",
    "\n",
    "### [Variable Types](#variables-types)\n",
    "\n",
    "*   [Simple Data Types](#simple-data-types)\n",
    "*   [Address](#address)\n",
    "*   [Mapping](#mapping)\n",
    "*   [Struct](#struct)\n",
    "*   [Enums](#enums)\n",
    "*   [Arrays](#arrays)\n",
    "\n",
    "### [Control Structures](#control-structures)\n",
    "\n",
    "### [Functions](#functions)\n",
    "\n",
    "*   [Function Modifiers](#function-modifiers)\n",
    "*   [Fallback Functions](#fallback-functions)\n",
    "*   [Contracts](#contracts)\n",
    "*   [Inheritance](#inheritance)\n",
    "*   [Abstract Contracts](#abstract-contracts)\n",
    "\n",
    "### [Interfaces](#interfaces)\n",
    "\n",
    "### [Libraries](#libraries)\n",
    "\n",
    "### [Events](#events)\n",
    "\n",
    "### [Checked or Unchecked Arithmetic](#checked-or-unchecked-arithmetic)\n",
    "\n",
    "### [Custom Types: Example with Fixed Point](#custom-types)\n",
    "\n",
    "### [Error Handling](#error-handling)\n",
    "\n",
    "### [Global Variables](#global-variables)\n",
    "\n",
    "*   [Block](#block)\n",
    "*   [Transaction](#transaction)\n",
    "*   [ABI](#abi)\n",
    "*   [Type](#type)\n",
    "*   [Cryptography](#cryptography)\n",
    "*   [Misc](#misc)\n",
    "\n",
    "Structure of a Smart Contract\n",
    "-----------------------------\n",
    "\n",
    "SPDX-License-Identifier: MIT\n",
    "\n",
    "Specify that the source code is for a version of Solidity of exactly 0.8.17: `pragma solidity 0.8.17;`\n",
    "\n",
    "Specify any imports: `import \"./MyOtherContract.sol\";`\n",
    "\n",
    "A contract is a collection of functions and data (its state) that resides at a specific address on the blockchain.\n"
   ]
  },
  {
   "cell_type": "code",
   "execution_count": null,
   "metadata": {
    "vscode": {
     "languageId": "javascript"
    }
   },
   "outputs": [],
   "source": [
    "\n",
    "    contract HelloWorld {\n",
    "    \n",
    "        // The keyword \"public\" makes variables accessible from outside a contract and creates a function that other contracts or SDKs can call to access the value.\n",
    "        \n",
    "        string public message;\n",
    "        \n",
    "        // The keyword \"private\" makes variables only accessible from the contract code itself. It does not mean the data is secret. \n",
    "        \n",
    "        address private owner;\n",
    "        \n",
    "        event MessageUpdated(string indexed newMessage);\n",
    "        error NotOwner(address owner, address sender);\n",
    "        \n",
    "        // any struct and enum types\n",
    "        \n",
    "        modifier onlyOwner {\n",
    "                if (msg.sender != owner) {\n",
    "                    revert NotOwner(owner, msg.sender);\n",
    "                }\n",
    "                _;\n",
    "        }\n",
    "        \n",
    "        // A special function only run during the creation of the contract\n",
    "        \n",
    "        constructor(string memory initMessage) {\n",
    "        \n",
    "                // Takes a string value and stores the value in the memory data storage area, setting `message` to that value\n",
    "        \n",
    "                message = initMessage;\n",
    "        \n",
    "                // setting owner as contract creator\n",
    "        \n",
    "                owner = msg.sender;\n",
    "        }\n",
    "        \n",
    "        // An externally accessible function that takes a string as a parameter and updates `message` only for the defined owner.\n",
    "        \n",
    "        function update(string memory newMessage) external onlyOwner {\n",
    "                message = newMessage;\n",
    "                emit MessageUpdated(newMessage);\n",
    "            }\n",
    "        }"
   ]
  },
  {
   "cell_type": "markdown",
   "metadata": {},
   "source": [
    "\n",
    "\n",
    "Variable Types\n",
    "--------------\n",
    "\n",
    "State variables can be declared private or public. Public will generate a public view function for the type. In addition they can be declared constant or immutable. Immutable variables can only be assigned in the constructor. Constant variables can only be assigned upon declaration.\n",
    "\n",
    "### Simple Data Types\n",
    "\n",
    "`bool`\n",
    "\n",
    "true or false\n",
    "\n",
    "`uint (uint256)`\n",
    "\n",
    "unsigned integer with 256 bits (also available are uint8…256 in steps of 8)\n",
    "\n",
    "`int (int256)`\n",
    "\n",
    "signed integer with 256 bits (also available are int8…256 in steps of 8)\n",
    "\n",
    "`bytes32`\n",
    "\n",
    "32 raw bytes (also available are bytes1…32 in steps of 1)\n",
    "\n",
    "### Address\n",
    "\n",
    "address: 0xba57bF26549F2Be7F69EC91E6a9db6Ce1e375390 `myAddr.balance`\n",
    "\n",
    "Payable address also has `myAddr.transfer` which transfers Ether but reverts if receiver uses up more than 2300 gas. It’s generally better to use .call and handle reentrancy issues separately:\n",
    "\n",
    "    (bool success,) = myAddr.call{value: 1 ether}(\"\");\n",
    "    require(success, \"Transfer failed\");\n",
    "\n",
    "Low-level call sends a transaction with any data to an address: myAddr.call{value: 1 ether, gas: 15000}(abi.encodeWithSelector(bytes4(keccak256(\"update(string)\")), “myNewString”))\n",
    "\n",
    "Like call, but will revert if the called function modifies the state in any way: `myAddr.staticcall`\n",
    "\n",
    "Like call, but keeps all the context (like state) from current contract. Useful for external libraries and upgradable contracts with a proxy: `myAddr.delegatecall`\n",
    "\n",
    "### Mapping\n",
    "\n",
    "A hash table where every possible key exists and initially maps to a type’s default value, e.g. 0 or “”."
   ]
  },
  {
   "cell_type": "code",
   "execution_count": null,
   "metadata": {
    "vscode": {
     "languageId": "javascript"
    }
   },
   "outputs": [],
   "source": [
    "mapping(KeyType => ValueType) public myMappingName;\n",
    "mapping(address => uint256) public balances;\n",
    "mapping(address => mapping(address => uint256)) private _approvals;\n",
    "\n",
    "Set value: balances[myAddr] = 42;\n",
    "Read value: balances[myAddr];"
   ]
  },
  {
   "cell_type": "markdown",
   "metadata": {},
   "source": [
    "\n",
    "### Struct"
   ]
  },
  {
   "cell_type": "code",
   "execution_count": null,
   "metadata": {
    "vscode": {
     "languageId": "javascript"
    }
   },
   "outputs": [],
   "source": [
    "struct Deposit {\n",
    "    address depositor;\n",
    "    uint256 amount;\n",
    "  }\n",
    "  \n",
    "  Deposit memory deposit;\n",
    "  Deposit public deposit;\n",
    "  deposit = Deposit({ depositor: msg.sender, amount: msg.value });\n",
    "  deposit2 = Deposit(0xa193…, 200);\n",
    "  \n",
    "  Read value: deposit.depositor;\n",
    "  Set value: deposit.amount = 23;"
   ]
  },
  {
   "cell_type": "markdown",
   "metadata": {},
   "source": [
    "### Enums"
   ]
  },
  {
   "cell_type": "code",
   "execution_count": null,
   "metadata": {
    "vscode": {
     "languageId": "javascript"
    }
   },
   "outputs": [],
   "source": [
    "enum Colors { Red, Blue, Green };\n",
    "Color color = Colors.Red;"
   ]
  },
  {
   "cell_type": "markdown",
   "metadata": {},
   "source": [
    "\n",
    "\n",
    "### Arrays\n"
   ]
  },
  {
   "cell_type": "code",
   "execution_count": null,
   "metadata": {
    "vscode": {
     "languageId": "javascript"
    }
   },
   "outputs": [],
   "source": [
    "uint8[] public myStateArray;\n",
    "uint8[] public myStateArray = [1, 2, 3];\n",
    "uint8[3] public myStateArray  = [1, 2, 3];\n",
    "uint8[] memory myMemoryArray = new uint8[](3);\n",
    "uint8[3] memory myMemoryArray = [1, 2, 3];\n",
    "\n",
    "myStateArray.length;"
   ]
  },
  {
   "cell_type": "markdown",
   "metadata": {},
   "source": [
    "\n",
    "Only dynamic state arrays:\n",
    "\n",
    "    myStateArray.push(3);\n",
    "    myStateArray.pop();\n",
    "\n",
    "  \n",
    "\n",
    "**Special Array bytes**: bytes memory/public data. More space-efficient form of bytes1\\[\\].\n",
    "\n",
    "**Special Array string**: string memory/public name. Like bytes but no length or index access.\n",
    "\n",
    "Control Structures\n",
    "------------------\n",
    "\n",
    "*   if (boolean) { … } else { … }\n",
    "*   while (boolean) { … }\n",
    "*   do { … } while (boolean)\n",
    "*   for (uint256 i; i < 10; i++) { … }\n",
    "*   break;\n",
    "*   continue;\n",
    "*   return\n",
    "*   boolean ? … : …;\n",
    "\n",
    "Functions\n",
    "---------\n"
   ]
  },
  {
   "cell_type": "code",
   "execution_count": null,
   "metadata": {
    "vscode": {
     "languageId": "javascript"
    }
   },
   "outputs": [],
   "source": [
    "function functionName([arg1, arg2...]) [public|external|internal|private] [view|pure] [payable] [modifier1, modifier2, ...] [returns([arg1, arg2, ...])] { … }\n",
    "function setBalance(uint256 newBalance) external { ... }\n",
    "function getBalance() view external returns(uint256 balance) { ... }\n",
    "function _helperFunction() private returns(uint256 myNumber) { ... }"
   ]
  },
  {
   "cell_type": "markdown",
   "metadata": {},
   "source": [
    "\n",
    "*   Function call for function in current contract: `_helperFunction();`\n",
    "*   Function call for function in external contract: `myContract.setBalance{value: 123, gas: 456 }(newBalance);`\n",
    "*   View functions don’t modify state. They can be called to read data without sending a transaction.\n",
    "*   Pure functions are special view functions that don’t even read data.\n",
    "*   Payable functions can receive Ether.\n",
    "\n",
    "### Function Modifiers\n"
   ]
  },
  {
   "cell_type": "code",
   "execution_count": null,
   "metadata": {
    "vscode": {
     "languageId": "javascript"
    }
   },
   "outputs": [],
   "source": [
    "modifier onlyOwner {\n",
    "    require(msg.sender == owner);\n",
    "    _;\n",
    "  }\n",
    "  \n",
    "  function changeOwner(address newOwner) external onlyOwner {\n",
    "    owner = newOwner;\n",
    "  }"
   ]
  },
  {
   "cell_type": "markdown",
   "metadata": {},
   "source": [
    "\n",
    "### Fallback Functions\n"
   ]
  },
  {
   "cell_type": "code",
   "execution_count": null,
   "metadata": {
    "vscode": {
     "languageId": "javascript"
    }
   },
   "outputs": [],
   "source": [
    "contract MyContract {\n",
    "    // executed when called with empty data, must be external and payable\n",
    "    receive() external payable {}\n",
    "\n",
    "    // executed when no other function matches, must be external, can be payable\n",
    "    fallback() external {}\n",
    "}"
   ]
  },
  {
   "cell_type": "markdown",
   "metadata": {},
   "source": [
    "\n",
    "Contracts\n",
    "---------\n"
   ]
  },
  {
   "cell_type": "code",
   "execution_count": null,
   "metadata": {
    "vscode": {
     "languageId": "javascript"
    }
   },
   "outputs": [],
   "source": [
    "contract MyContract {\n",
    "    uint256 public balance;\n",
    "    constructor(uint256 initialBalance) { balance = initialBalance; }\n",
    "    function setBalance(uint256 newBalance) external { balance = newBalance; }\n",
    "}"
   ]
  },
  {
   "cell_type": "markdown",
   "metadata": {},
   "source": [
    "\n",
    "*   MyContract myContract = new MyContract(100);\n",
    "*   MyContract myContract2 = MyContract(0xa41ab…);\n",
    "*   this: current contract\n",
    "*   address(this): current contract’s address\n",
    "\n",
    "### Inheritance\n"
   ]
  },
  {
   "cell_type": "code",
   "execution_count": null,
   "metadata": {
    "vscode": {
     "languageId": "javascript"
    }
   },
   "outputs": [],
   "source": [
    "contract MyAncestorContract2 {\n",
    "    function myFunction() external virtual { … }\n",
    "}\n",
    "\n",
    "contract MyAncestorContract1 is MyAncestorContract2 {\n",
    "    function myFunction() external virtual override { … }\n",
    "}\n",
    "\n",
    "contract MyContract is MyAncestorContract1 {\n",
    "    function myFunction() external override(MyAncestorContract1, MyAncestorContract2) { … }\n",
    "}"
   ]
  },
  {
   "cell_type": "markdown",
   "metadata": {},
   "source": [
    "\n",
    "*   Call first ancestor function: `super.myFunction()`\n",
    "*   Call specific ancestor function: `MyAncestorContract2.myFunction()`\n",
    "\n",
    "### Abstract Contracts\n",
    "\n",
    "Abstract contracts cannot be instantiated. You can only use them by inheriting from them and implementing any non implemented functions.\n"
   ]
  },
  {
   "cell_type": "code",
   "execution_count": null,
   "metadata": {
    "vscode": {
     "languageId": "javascript"
    }
   },
   "outputs": [],
   "source": [
    "abstract contract MyAbstractContract {\n",
    "    function myImplementedFunction() external { … }\n",
    "    function myNonImplementedFunction() external virtual; // must be virtual\n",
    "   }"
   ]
  },
  {
   "cell_type": "markdown",
   "metadata": {},
   "source": [
    "\n",
    "Interfaces\n",
    "----------\n",
    "\n",
    "Interfaces are like abstract contracts, but can only have non-implemented functions. Useful for interacting with standardized foreign contracts like ERC20.\n"
   ]
  },
  {
   "cell_type": "code",
   "execution_count": null,
   "metadata": {
    "vscode": {
     "languageId": "javascript"
    }
   },
   "outputs": [],
   "source": [
    "interface MyInterface {\n",
    "    function myNonImplementedFunction() external; // always virtual, no need to declare specifically\n",
    "   }"
   ]
  },
  {
   "cell_type": "markdown",
   "metadata": {},
   "source": [
    "\n",
    "Libraries\n",
    "---------\n"
   ]
  },
  {
   "cell_type": "code",
   "execution_count": null,
   "metadata": {
    "vscode": {
     "languageId": "javascript"
    }
   },
   "outputs": [],
   "source": [
    "library Math {\n",
    "    function min(uint256 a, uint256 b) internal pure returns (uint256) {\n",
    "        if (a > b) { return b; }\n",
    "        return a;\n",
    "    }\n",
    "\n",
    "  function max(uint256 a, uint256 b) internal pure returns (uint256) {\n",
    "        if (a &lt; b) { return b; }\n",
    "        return a;\n",
    "    }\n",
    "}\n",
    "\n",
    "contract MyContract {\n",
    "    function min(uint256 a, uint256) public pure returns (uint256) {\n",
    "        return Math.min(a,b);\n",
    "    }\n",
    "\n",
    "    function max(uint256 x) public pure returns (uint256) {\n",
    "        return Math.max(a,b);\n",
    "    }\n",
    "}\n",
    "\n",
    "// Using LibraryName for type:\n",
    "\n",
    "library Math {\n",
    "    function ceilDiv(uint256 a, uint256 b) internal pure returns (uint256) {\n",
    "        return a / b + (a % b == 0 ? 0 : 1);\n",
    "    }\n",
    "}\n",
    "\n",
    "contract MyContract {\n",
    "    using Math for uint256;\n",
    "    function ceilDiv(uint256 a, uint256) public pure returns (uint256) {\n",
    "        return x.ceilDiv(y);\n",
    "    }\n",
    "}"
   ]
  },
  {
   "cell_type": "markdown",
   "metadata": {},
   "source": [
    "\n",
    "Events\n",
    "------\n",
    "\n",
    "Events allow for efficient look up in the blockchain for finding deposit() transactions. Up to three attributes can be declared as indexed which allows filtering for it.\n"
   ]
  },
  {
   "cell_type": "code",
   "execution_count": null,
   "metadata": {
    "vscode": {
     "languageId": "javascript"
    }
   },
   "outputs": [],
   "source": [
    "contract MyContract {\n",
    "    event Deposit(\n",
    "        address indexed depositor,\n",
    "        uint256 amount\n",
    "    );\n",
    "\n",
    "    function deposit() external payable {\n",
    "        emit Deposit(msg.sender, msg.value);\n",
    "        …\n",
    "    }\n",
    "}"
   ]
  },
  {
   "cell_type": "markdown",
   "metadata": {},
   "source": [
    "\n",
    "Checked or Unchecked Arithmetic\n",
    "-------------------------------\n"
   ]
  },
  {
   "cell_type": "code",
   "execution_count": null,
   "metadata": {
    "vscode": {
     "languageId": "javascript"
    }
   },
   "outputs": [],
   "source": [
    "contract CheckedUncheckedTests {\n",
    "    function checkedAdd() pure public returns (uint256) {\n",
    "        return type(uint256).max + 1; // reverts\n",
    "    }\n",
    "\n",
    "    function checkedSub() pure public returns (uint256) {\n",
    "        return type(uint256).min - 1; // reverts\n",
    "    } \n",
    "\n",
    "    function uncheckedAdd() pure public returns (uint256) {\n",
    "        // doesn’t revert, but overflows and returns 0\n",
    "        unchecked { return type(uint256).max + 1; } \n",
    "    }\n",
    "\n",
    "    function uncheckedSub() pure public returns (uint256) {\n",
    "        // doesn’t revert, but underflows and returns 2^256-1\n",
    "        unchecked { return type(uint256).min - 1; }\n",
    "    }\n",
    "}"
   ]
  },
  {
   "cell_type": "markdown",
   "metadata": {},
   "source": [
    "\n",
    "Custom Types: Example with Fixed Point\n",
    "--------------------------------------\n"
   ]
  },
  {
   "cell_type": "code",
   "execution_count": null,
   "metadata": {
    "vscode": {
     "languageId": "javascript"
    }
   },
   "outputs": [],
   "source": [
    "type FixedPoint is uint256\n",
    "    \n",
    "library FixedPointMath {\n",
    "    uint256 constant MULTIPLIER = 10**18;\n",
    "\n",
    "    function add(FixedPoint a, FixedPoint b) internal pure returns (UFixed256x18) {\n",
    "        return FixedPoint.wrap(FixedPoint.unwrap(a) + FixedPoint.unwrap(b));\n",
    "    }\n",
    "\n",
    "    function mul(FixedPoint a, uint256 b) internal pure returns (FixedPoint) {\n",
    "        return FixedPoint.wrap(FixedPoint.unwrap(a) * b);\n",
    "    }\n",
    "\n",
    "   function mulFixedPoint(uint256 number, FixedPoint fixedPoint) internal pure returns (uint256) {\n",
    "        return (number * FixedPoint.unwrap(fixedPoint)) / MULTIPLIER;\n",
    "    }\n",
    "\n",
    "    function divFixedPoint(uint256 number, FixedPoint fixedPoint) internal pure returns (uint256) {\n",
    "        return (number * MULTIPLIER) / Wad.unwrap(fixedPoint);\n",
    "    }\n",
    "\n",
    "    function fromFraction(uint256 numerator, uint256 denominator) internal pure returns (FixedPoint) {\n",
    "      if (numerator == 0) {\n",
    "        return FixedPoint.wrap(0);\n",
    "      }\n",
    "\n",
    "      return FixedPoint.wrap((numerator * MULTIPLIER) / denominator);\n",
    "    }\n",
    "}"
   ]
  },
  {
   "cell_type": "markdown",
   "metadata": {},
   "source": [
    "Error Handling\n",
    "--------------\n"
   ]
  },
  {
   "cell_type": "code",
   "execution_count": null,
   "metadata": {
    "vscode": {
     "languageId": "javascript"
    }
   },
   "outputs": [],
   "source": [
    "error InsufficientBalance(uint256 available, uint256 required)\n",
    "    \n",
    "function transfer(address to, uint256 amount) public {\n",
    "    if (amount > balance[msg.sender]) {\n",
    "        revert InsufficientBalance({\n",
    "            available: balance[msg.sender],\n",
    "            required: amount\n",
    "        });\n",
    "    }\n",
    "\n",
    "    balance[msg.sender] -= amount;\n",
    "    balance[to] += amount;\n",
    "}"
   ]
  },
  {
   "cell_type": "markdown",
   "metadata": {},
   "source": [
    "\n",
    "Alternatively revert with a string:\n",
    "\n",
    "*   revert(“insufficient balance”);\n",
    "*   require(amount <= balance, “insufficient balance”);\n",
    "*   assert(amount <= balance) // reverts with Panic(0x01)\n",
    "\n",
    "Other built-in panic errors:\n",
    "\n",
    "0x00\n",
    "\n",
    "Used for generic compiler inserted panics.\n",
    "\n",
    "0x01\n",
    "\n",
    "If you call assert with an argument that evaluates to false.\n",
    "\n",
    "0x11\n",
    "\n",
    "If an arithmetic operation results in underflow or overflow outside of an unchecked { ... } block.\n",
    "\n",
    "0x12\n",
    "\n",
    "If you divide or modulo by zero (e.g. 5 / 0 or 23 % 0).\n",
    "\n",
    "0x21\n",
    "\n",
    "If you convert a value that is too big or negative into an enum type.\n",
    "\n",
    "0x22\n",
    "\n",
    "If you access a storage byte array that is incorrectly encoded.\n",
    "\n",
    "0x31\n",
    "\n",
    "If you call .pop() on an empty array.\n",
    "\n",
    "0x32\n",
    "\n",
    "If you access an array, bytesN or an array slice at an out-of-bounds or negative index (i.e. x\\[i\\] where i >= x.length or i < 0).\n",
    "\n",
    "0x41\n",
    "\n",
    "If you allocate too much memory or create an array that is too large.\n",
    "\n",
    "0x51\n",
    "\n",
    "If you call a zero-initialized variable of internal function type.\n",
    "\n",
    "Global Variables\n",
    "----------------\n",
    "\n",
    "### Block\n",
    "\n",
    "`block.basefee (uint256)`\n",
    "\n",
    "Current block’s base fee (EIP-3198 and EIP-1559)\n",
    "\n",
    "`block.chainid (uint256)`\n",
    "\n",
    "Current chain id\n",
    "\n",
    "`block.coinbase (address payable)`\n",
    "\n",
    "Current block miner’s address\n",
    "\n",
    "`block.difficulty (uint256)`\n",
    "\n",
    "Outdated old block difficulty, but since the Ethereum mainnet upgrade called Paris as part of ‘The Merge’ in September 2022 it is now deprecated and represents `prevrandao`: a value from the randomness generation process called Randao (see [EIP-4399](https://eips.ethereum.org/EIPS/eip-4399) for details)\n",
    "\n",
    "`block.gaslimit (uint256)`\n",
    "\n",
    "Current block gaslimit\n",
    "\n",
    "`block.number (uint256)`\n",
    "\n",
    "Current block number\n",
    "\n",
    "`block.timestamp (uint256)`\n",
    "\n",
    "Current block timestamp in seconds since Unix epoch\n",
    "\n",
    "`blockhash(uint256 blockNumber) returns (bytes32)`\n",
    "\n",
    "Hash of the given block - only works for 256 most recent blocks\n",
    "\n",
    "### Transaction\n",
    "\n",
    "`gasleft() returns (uint256)`\n",
    "\n",
    "Remaining gas\n",
    "\n",
    "`msg.data (bytes)`\n",
    "\n",
    "Complete calldata\n",
    "\n",
    "`msg.sender (address)`\n",
    "\n",
    "Sender of the message (current call)\n",
    "\n",
    "`msg.sig (bytes4)`\n",
    "\n",
    "First four bytes of the calldata (i.e. function identifier)\n",
    "\n",
    "`msg.value (uint256)`\n",
    "\n",
    "Number of wei sent with the message\n",
    "\n",
    "`tx.gasprice (uint256)`\n",
    "\n",
    "Gas price of the transaction\n",
    "\n",
    "`tx.origin (address)`\n",
    "\n",
    "Sender of the transaction (full call chain)\n",
    "\n",
    "### ABI\n",
    "\n",
    "`abi.decode(bytes memory encodedData, (...)) returns (...)`\n",
    "\n",
    "ABI-decodes the provided data. The types are given in parentheses as second argument. Example: (uint256 a, uint256\\[2\\] memory b, bytes memory c) = abi.decode(data, (uint256, uint256\\[2\\], bytes))\n",
    "\n",
    "`abi.encode(...) returns (bytes memory)`\n",
    "\n",
    "ABI-encodes the given arguments\n",
    "\n",
    "`abi.encodePacked(...) returns (bytes memory)`\n",
    "\n",
    "Performs packed encoding of the given arguments. Note that this encoding can be ambiguous!\n",
    "\n",
    "`abi.encodeWithSelector(bytes4 selector, ...) returns (bytes memory)`\n",
    "\n",
    "ABI-encodes the given arguments starting from the second and prepends the given four-byte selector\n",
    "\n",
    "`abi.encodeCall(function functionPointer, (...)) returns (bytes memory)`\n",
    "\n",
    "ABI-encodes a call to functionPointer with the arguments found in the tuple. Performs a full type-check, ensuring the types match the function signature. Result equals abi.encodeWithSelector(functionPointer.selector, (...))\n",
    "\n",
    "`abi.encodeWithSignature(string memory signature, ...) returns (bytes memory)`\n",
    "\n",
    "Equivalent to abi.encodeWithSelector(bytes4(keccak256(bytes(signature)), ...)\n",
    "\n",
    "### Type\n",
    "\n",
    "`type(C).name (string)`\n",
    "\n",
    "The name of the contract\n",
    "\n",
    "`type(C).creationCode (bytes memory)`\n",
    "\n",
    "Creation bytecode of the given contract.\n",
    "\n",
    "`type(C).runtimeCode (bytes memory)`\n",
    "\n",
    "Runtime bytecode of the given contract.\n",
    "\n",
    "`type(I).interfaceId (bytes4)`\n",
    "\n",
    "Value containing the EIP-165 interface identifier of the given interface.\n",
    "\n",
    "`type(T).min (T)`\n",
    "\n",
    "The minimum value representable by the integer type T.\n",
    "\n",
    "`type(T).max (T)`\n",
    "\n",
    "The maximum value representable by the integer type T.\n",
    "\n",
    "### Cryptography\n",
    "\n",
    "`keccak256(bytes memory) returns (bytes32)`\n",
    "\n",
    "Compute the Keccak-256 hash of the input\n",
    "\n",
    "`sha256(bytes memory) returns (bytes32)`\n",
    "\n",
    "Compute the SHA-256 hash of the input\n",
    "\n",
    "`ripemd160(bytes memory) returns (bytes20)`\n",
    "\n",
    "Compute the RIPEMD-160 hash of the input\n",
    "\n",
    "`ecrecover(bytes32 hash, uint8 v, bytes32 r, bytes32 s) returns (address)`\n",
    "\n",
    "Recover address associated with the public key from elliptic curve signature, return zero on error\n",
    "\n",
    "`addmod(uint256 x, uint256 y, uint256 k) returns (uint256)`\n",
    "\n",
    "Compute (x + y) % k where the addition is performed with arbitrary precision and does not wrap around at 2··256. Assert that k != 0.\n",
    "\n",
    "`mulmod(uint256 x, uint256 y, uint256 k) returns (uint256)`\n",
    "\n",
    "Compute (x \\* y) % k where the multiplication is performed with arbitrary precision and does not wrap around at 2··256. Assert that k != 0.\n",
    "\n",
    "### Misc\n",
    "\n",
    "`bytes.concat(...) returns (bytes memory)`\n",
    "\n",
    "Concatenates variable number of arguments to one byte array\n",
    "\n",
    "`string.concat(...) returns (string memory)`\n",
    "\n",
    "Concatenates variable number of arguments to one string array\n",
    "\n",
    "`this (current contract’s type)`\n",
    "\n",
    "The current contract, explicitly convertible to address or address payable\n",
    "\n",
    "`super`\n",
    "\n",
    "The contract one level higher in the inheritance hierarchy\n",
    "\n",
    "`selfdestruct(address payable recipient)`\n",
    "\n",
    "Destroy the current contract, sending its funds to the given address. Does not give gas refunds anymore since LONDON hardfork.\n",
    "\n",
    "[Back To Top](#contents)"
   ]
  },
  {
   "cell_type": "markdown",
   "metadata": {},
   "source": [
    "![PDF Guide](Solidity_Cheatsheet_Zero_To_Mastery_V1.02.pdf)"
   ]
  }
 ],
 "metadata": {
  "language_info": {
   "name": "python"
  },
  "orig_nbformat": 4
 },
 "nbformat": 4,
 "nbformat_minor": 2
}
