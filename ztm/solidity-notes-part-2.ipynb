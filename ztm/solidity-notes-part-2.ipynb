{
 "cells": [
  {
   "cell_type": "markdown",
   "metadata": {},
   "source": [
    "[SHA 256 tool](https://emn178.github.io/online-tools/sha256.html)"
   ]
  },
  {
   "cell_type": "markdown",
   "metadata": {},
   "source": [
    "![Etherium Virtual Machine](evm.png)"
   ]
  },
  {
   "cell_type": "markdown",
   "metadata": {},
   "source": [
    "[EVM OP Codes](https://www.evm.codes/)"
   ]
  },
  {
   "cell_type": "markdown",
   "metadata": {},
   "source": [
    "![UltraSound Money](ultrasound-money.jpeg)"
   ]
  },
  {
   "cell_type": "markdown",
   "metadata": {},
   "source": [
    "![typical dApp](typical-dapp-archi.png)"
   ]
  },
  {
   "cell_type": "markdown",
   "metadata": {},
   "source": [
    "## Swapping like a unicorn\n",
    "- we're talking about uniswap [Uniswap](https://app.uniswap.org/)\n",
    "- can swap cryptoCoins from one to another\n",
    "\n",
    "- they use the MetaMask wallet browser extension \n",
    "[MetaMask](https://metamask.io/)\n",
    "\n",
    "- there are testNets - so we can try without using real money \n",
    "[Rinkeby Faucet](https://faucet.rinkeby.io/)\n",
    "[Multi Faucet](https://faucet.paradigm.xyz/)\n",
    "\n",
    "- From uniSwap they use MetaMask to sign a transfer of 1 fake Eth to Dai using a TestNet \n",
    "\n",
    "[from this video](https://academy.zerotomastery.io/courses/1676407/lectures/39693091)"
   ]
  },
  {
   "cell_type": "markdown",
   "metadata": {},
   "source": [
    "More links to veryify what happens in a transfer etc (what is happening on the blockchain)\n",
    "\n",
    "- [Rinkeby Etherscan](https://rinkeby.etherscan.io/)\n",
    "- [Etherscan Verify Contract](https://etherscan.io/verifyContract)\n",
    "\n",
    "Problem with the Etherscan service (which is extrememly useful) it is not decentralised\n",
    "\n",
    "This service can help with decentralised\n",
    "[Sourcify](https://sourcify.dev/)"
   ]
  },
  {
   "cell_type": "markdown",
   "metadata": {},
   "source": [
    "# Want to be a Solidity Developer? \n",
    "\n",
    "- There's both FrontEnd and BackEnd roles in this world\n",
    "\n",
    "### Frontend\n",
    "- FrontEnd doesn't really need solidity knowledge, perhaps the solidity knowledge can help you understand the links and connections for the backend, but it's not really needed. \n",
    "\n",
    "### Backend\n",
    "- now we're interested in Solidity (though there is also the Node.js stuff, but we're not going to consider that yet). \n",
    "\n",
    "## Solidity \n",
    "What do we need? \n",
    "- we need to Compile\n",
    "- we need to be able to Deploy\n",
    "- we need Unit Tests\n",
    "- We may need to run a local blockchain \n",
    "\n",
    "### Important tools\n",
    "- Truffle\n",
    "- Hardhat \n",
    "[Compile / Deploy / Unit Tests]\n",
    "\n",
    "both tools do similar things, but hardhat is preferred by trainer\n",
    "\n",
    "- Ganache \n",
    "[Run a local Blockchain]\n",
    "\n",
    "### Reference Contracts\n",
    "\n",
    "- [Openzeppelin Contracts](https://docs.openzeppelin.com/contracts/4.x/)\n",
    "\n",
    "- reference contracts\n",
    "- high quality\n",
    "- higly recommended to take a look and review \n",
    "\n",
    "### Web Dev Tools\n",
    "- yarn / npm\n",
    "- nodeJS\n",
    "- TypeScript (recommend you to learn some basics)\n",
    "\n",
    "- Typescript knowledge can be useful in your career as a Solidity/Ethereum/Blockchain Developer, but it is not required. If you'd like to brush up on Typescript, check out Typescript: [The Complete Developer's Guide](https://academy.zerotomastery.io/p/learn-typescript). "
   ]
  },
  {
   "cell_type": "markdown",
   "metadata": {},
   "source": [
    "## NFTs\n",
    "\n",
    "- Super hot topic\n",
    "- If you want to learn more about this subject, take a look at the [NFTs 101: Introduction to NFTs](https://academy.zerotomastery.io/p/introduction-to-nfts) course on the ZTM Academy. It's a short course but provides a great overview of NFTs that supplements this course well.\n",
    "- lots of people using these, you can use yourself! \n",
    "- Tokens, NFTs etc \n",
    "\n",
    "\n",
    "### DAO\n",
    "- Decentralised Autonomous Organizations \n",
    "\n",
    "### DeFi\n",
    "- the big ones that we're mostly aware of "
   ]
  }
 ],
 "metadata": {
  "language_info": {
   "name": "python"
  },
  "orig_nbformat": 4
 },
 "nbformat": 4,
 "nbformat_minor": 2
}
