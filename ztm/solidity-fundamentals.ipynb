{
 "cells": [
  {
   "cell_type": "markdown",
   "metadata": {},
   "source": [
    "- [Solidity Documentation](https://docs.soliditylang.org/en/v0.8.13/)\n",
    "\n",
    "- similar to JS, at least at initial glance\n",
    "- important differences\n",
    "- Solidity is a STRONGLY TYPED language\n",
    "- meaning variable types are declared upfront \n",
    "\n",
    "### solc\n",
    "- solidity compiler\n",
    "- produces \n",
    "* Opcodes\n",
    "* Application Binary Interface (ABI)\n",
    "* Metadata\n",
    "\n",
    "### ABI\n",
    "- kind of like an interpretor between smart contract and human\n",
    "- can convert / interpret both ways. \n",
    "\n"
   ]
  }
 ],
 "metadata": {
  "language_info": {
   "name": "python"
  },
  "orig_nbformat": 4
 },
 "nbformat": 4,
 "nbformat_minor": 2
}
