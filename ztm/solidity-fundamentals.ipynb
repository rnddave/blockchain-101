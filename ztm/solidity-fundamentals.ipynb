{
 "cells": [
  {
   "cell_type": "markdown",
   "metadata": {},
   "source": [
    "- [Solidity Documentation](https://docs.soliditylang.org/en/v0.8.13/)\n",
    "\n",
    "- similar to JS, at least at initial glance\n",
    "- important differences\n",
    "- Solidity is a STRONGLY TYPED language\n",
    "- meaning variable types are declared upfront \n",
    "\n",
    "### solc\n",
    "- solidity compiler\n",
    "- produces \n",
    "* Opcodes\n",
    "* Application Binary Interface (ABI)\n",
    "* Metadata\n",
    "\n",
    "### ABI\n",
    "- kind of like an interpretor between smart contract and human\n",
    "- can convert / interpret both ways. "
   ]
  },
  {
   "cell_type": "markdown",
   "metadata": {},
   "source": [
    "### Remix\n",
    "- [Remix Editor](http://remix.ethereum.org/)"
   ]
  },
  {
   "cell_type": "markdown",
   "metadata": {},
   "source": [
    "### License Type \n",
    "- solidity requires a comment at top with license type defined\n",
    "- [spdx - license types](https://spdx.org/licenses)\n",
    "\n",
    "- trainer always uses a MIT license (do whatever you want with this code)"
   ]
  },
  {
   "cell_type": "code",
   "execution_count": null,
   "metadata": {
    "vscode": {
     "languageId": "javascript"
    }
   },
   "outputs": [],
   "source": [
    "// SPDX-License-Identifier: MIT"
   ]
  },
  {
   "cell_type": "markdown",
   "metadata": {},
   "source": [
    "### Pragma\n",
    "- we need to write the solidity version\n",
    "\n",
    "- pragma comes from pragmatic\n",
    "- how to interpret the code\n",
    "- which version this was written for"
   ]
  },
  {
   "cell_type": "code",
   "execution_count": null,
   "metadata": {
    "vscode": {
     "languageId": "javascript"
    }
   },
   "outputs": [],
   "source": [
    "pragma solidity 0.8.11; // can also use ^0.8.0 (all 0.8 and up) but better to be specific"
   ]
  },
  {
   "cell_type": "markdown",
   "metadata": {},
   "source": [
    "and for the contract.... "
   ]
  },
  {
   "cell_type": "code",
   "execution_count": null,
   "metadata": {
    "vscode": {
     "languageId": "javascript"
    }
   },
   "outputs": [],
   "source": [
    "// SPDX-License-Identifier: MIT\n",
    "pragma solidity 0.8.11;\n",
    "\n",
    "contract TheFirstContract {\n",
    "    \n",
    "}"
   ]
  },
  {
   "cell_type": "markdown",
   "metadata": {},
   "source": []
  }
 ],
 "metadata": {
  "language_info": {
   "name": "python"
  },
  "orig_nbformat": 4
 },
 "nbformat": 4,
 "nbformat_minor": 2
}
