{
 "cells": [
  {
   "attachments": {},
   "cell_type": "markdown",
   "metadata": {},
   "source": [
    "# Creating your own ERC-20 Token\n",
    "\n",
    "- statically typed language\n",
    "\n",
    "### Types \n",
    "\n",
    "* Boolean\n",
    "* Numbers\n",
    "* String (which is just a specical type of array)\n",
    "* Array\n",
    "* Address\n",
    "* Contract\n",
    "* Enum\n",
    "* Mapping\n",
    "* Function\n",
    "* Custom\n",
    "\n",
    "![solidity types](solidity-types.png)"
   ]
  },
  {
   "attachments": {},
   "cell_type": "markdown",
   "metadata": {},
   "source": [
    "### Numbers\n",
    "\n",
    "- most common = unsigned integer (uint) = positive integer 0+\n",
    "\n",
    "![uint](uint-types.png)"
   ]
  },
  {
   "attachments": {},
   "cell_type": "markdown",
   "metadata": {},
   "source": [
    "- probably easier to just default for uint or uint256 (this is the same thing)\n",
    "\n",
    "- int = a signed integer (e.g. you can have negative numbers as well)\n",
    "\n",
    "![int types](int-types.png)"
   ]
  },
  {
   "attachments": {},
   "cell_type": "markdown",
   "metadata": {},
   "source": [
    "### Constant & Immutable\n",
    "\n",
    "- using CONSTANT or IMMUTABLE on variables that you know will not change, can save you gas! \n",
    "\n",
    "- there is a difference tho\n",
    "\n",
    "- CONSTANT needs to be declared at compile time\n",
    "- IMMUTABLE can be declared once when contract is created\n",
    "\n",
    "- good practice to use upper-case to easily spot them\n",
    "\n",
    "![constant-immutable](constant-immutable.png)"
   ]
  },
  {
   "attachments": {},
   "cell_type": "markdown",
   "metadata": {},
   "source": [
    "## ERC vs EIP \n",
    "\n",
    "- ERC = Ethereum Request for Comment\n",
    "- EIP = Ethereum Improvement Proposal \n",
    "\n",
    "* [Ethereum EPIs](https://eips.ethereum.org/)\n",
    "* [EIP GitHub Repo](https://github.com/ethereum/EIPs)\n",
    "* [Ethereum ERCs](https://eips.ethereum.org/erc)\n",
    "\n",
    "- anyone can make a proposal to improve Ethereum, just need to make a pull request on EIP Repo\n",
    "\n",
    "- Dev's most likely to deal with ERCs\n",
    "\n",
    "- ERCs = standards"
   ]
  },
  {
   "attachments": {},
   "cell_type": "markdown",
   "metadata": {},
   "source": [
    "## ERC20\n",
    "\n",
    "- [EIP for ERC20](https://eips.ethereum.org/EIPS/eip-20)\n",
    "- most popular ERC by fange\n",
    "- this is a Fungible Token\n",
    "- this means, every token is replacable with any other token of the same kind \n",
    "- essentially 1Ether is the same as any other 1Ether\n",
    "\n",
    "![erc-20-func](erc20-common-func.png)\n",
    "---\n",
    "- First 3 functions = token\n",
    "- Next 3 functions = smartContract (important - do not send tokens to contract = many new dev's lost their money this way)\n",
    "- Final 3 functions - optional - mostly in Tokens, but are optional \n",
    "---\n",
    "### vs NFT\n",
    "- NFT = no two are the same\n",
    "- all unique "
   ]
  },
  {
   "attachments": {},
   "cell_type": "markdown",
   "metadata": {},
   "source": [
    "**Setting up the environment**\n",
    "==============================\n",
    "\n",
    "Let's set up your dev environment! You will need Node.js and we will also be using **Hardhat** as our development framework.\n",
    "\n",
    "To do this you'll need to do the following:\n",
    "\n",
    "1.  Install Node.js 12.0 or greater (or upgrade your Node.js installation to 12.0 or greater)\n",
    "2.  Install a code editor (if you don't already have a code editor)\n",
    "3.  Install the Solidity extension\n",
    "\n",
    "Below I explain how to do each of these.\n",
    "\n"
   ]
  },
  {
   "attachments": {},
   "cell_type": "markdown",
   "metadata": {},
   "source": [
    "**1\\. Install Node.js**\n",
    "-----------------------\n",
    "\n",
    "Most Ethereum libraries and tools are written in JavaScript, and so is Hardhat. If you're not familiar with Node.js, it's a JavaScript runtime built on Chrome's V8 JavaScript engine. It's the most popular solution to run JavaScript outside of a web browser and Hardhat is built on top of it.\n",
    "\n",
    "You can skip this section if you already have a working Node.js `>=12.0` installation. If not, here's how to install it on Ubuntu, MacOS and Windows.\n",
    "\n",
    "### Linux/Ubuntu\n",
    "\n",
    "Make sure you have `git` installed. Otherwise, follow [these instructions](https://www.atlassian.com/git/tutorials/install-git).\n",
    "\n",
    "Copy and paste these commands in a terminal:\n",
    "\n",
    "sudo apt update\n",
    "sudo apt install curl git\n",
    "curl -sL https://deb.nodesource.com/setup\\_12.x | sudo -E bash -\n",
    "sudo apt install nodejs\n",
    "\n",
    "### MacOS\n",
    "\n",
    "Make sure you have `git` installed. Otherwise, follow [these instructions](https://www.atlassian.com/git/tutorials/install-git).\n",
    "\n",
    "There are multiple ways of installing Node.js on MacOS. We will be using [Node Version Manager (nvm)](http://github.com/creationix/nvm). Copy and paste these commands in a terminal:\n",
    "\n",
    "curl -o- https://raw.githubusercontent.com/creationix/nvm/v0.35.2/install.sh | bash\n",
    "nvm install 12\n",
    "nvm use 12\n",
    "nvm alias default 12\n",
    "npm install npm --global # Upgrade npm to the latest version\n",
    "\n",
    "### Windows\n",
    "\n",
    "Installing Node.js on Windows requires a few manual steps. Download and run these:\n",
    "\n",
    "1.  First install Git from [here](https://github.com/git-for-windows/git/releases/latest).\n",
    "2.  Download node-v12.XX.XX-x64.msi file from [here](https://nodejs.org/dist/latest-v12.x/ ).\n",
    "\n",
    "If you don't have a terminal to enter commands yet, I recommend using Git Bash from [here](https://gitforwindows.org/). This will give you a similar terminal to those with Mac or Linux.\n",
    "\n",
    "  \n",
    "\n",
    "**2\\. Install Visual Studio Code**\n",
    "----------------------------------\n",
    "\n",
    "If you do not already have a code editor installed, then download and install VS Code from [here](https://code.visualstudio.com/download).\n",
    "\n",
    "  \n",
    "\n",
    "**3\\. Install Solidity extension**\n",
    "----------------------------------\n",
    "\n",
    "Install the Solidity extension either [here](https://marketplace.visualstudio.com/items?itemName=JuanBlanco.solidity) or [here](https://marketplace.visualstudio.com/items?itemName=ylrednet.ytidilos).\n",
    "\n",
    "You can see a list of alternative development frameworks over at [https://ethereum.org/en/developers/local-environment/](https://ethereum.org/en/developers/local-environment). \n",
    "\n",
    "  "
   ]
  },
  {
   "cell_type": "markdown",
   "metadata": {},
   "source": []
  }
 ],
 "metadata": {
  "language_info": {
   "name": "python"
  },
  "orig_nbformat": 4
 },
 "nbformat": 4,
 "nbformat_minor": 2
}
