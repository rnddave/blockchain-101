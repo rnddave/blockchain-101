{
 "cells": [
  {
   "attachments": {},
   "cell_type": "markdown",
   "metadata": {},
   "source": [
    "# Creating your own ERC-20 Token\n",
    "\n",
    "- statically typed language\n",
    "\n",
    "### Types \n",
    "\n",
    "* Boolean\n",
    "* Numbers\n",
    "* String (which is just a specical type of array)\n",
    "* Array\n",
    "* Address\n",
    "* Contract\n",
    "* Enum\n",
    "* Mapping\n",
    "* Function\n",
    "* Custom\n",
    "\n",
    "![solidity types](solidity-types.png)"
   ]
  },
  {
   "attachments": {},
   "cell_type": "markdown",
   "metadata": {},
   "source": [
    "### Numbers\n",
    "\n",
    "- most common = unsigned integer (uint) = positive integer 0+\n",
    "\n",
    "![uint](uint-types.png)"
   ]
  },
  {
   "attachments": {},
   "cell_type": "markdown",
   "metadata": {},
   "source": [
    "- probably easier to just default for uint or uint256 (this is the same thing)\n",
    "\n",
    "- int = a signed integer (e.g. you can have negative numbers as well)\n",
    "\n",
    "![int types](int-types.png)"
   ]
  },
  {
   "attachments": {},
   "cell_type": "markdown",
   "metadata": {},
   "source": [
    "### Constant & Immutable\n",
    "\n",
    "- using CONSTANT or IMMUTABLE on variables that you know will not change, can save you gas! \n",
    "\n",
    "- there is a difference tho\n",
    "\n",
    "- CONSTANT needs to be declared at compile time\n",
    "- IMMUTABLE can be declared once when contract is created\n",
    "\n",
    "- good practice to use upper-case to easily spot them\n",
    "\n",
    "![constant-immutable](constant-immutable.png)"
   ]
  },
  {
   "attachments": {},
   "cell_type": "markdown",
   "metadata": {},
   "source": [
    "## ERC vs EIP \n",
    "\n",
    "- ERC = Ethereum Request for Comment\n",
    "- EIP = Ethereum Improvement Proposal \n",
    "\n",
    "* [Ethereum EPIs](https://eips.ethereum.org/)\n",
    "* [EIP GitHub Repo](https://github.com/ethereum/EIPs)\n",
    "* [Ethereum ERCs](https://eips.ethereum.org/erc)\n",
    "\n",
    "- anyone can make a proposal to improve Ethereum, just need to make a pull request on EIP Repo\n",
    "\n",
    "- Dev's most likely to deal with ERCs\n",
    "\n",
    "- ERCs = standards"
   ]
  },
  {
   "attachments": {},
   "cell_type": "markdown",
   "metadata": {},
   "source": [
    "## ERC20\n",
    "\n",
    "- [EIP for ERC20](https://eips.ethereum.org/EIPS/eip-20)\n",
    "- most popular ERC by fange\n",
    "- this is a Fungible Token\n",
    "- this means, every token is replacable with any other token of the same kind \n",
    "- essentially 1Ether is the same as any other 1Ether\n",
    "\n",
    "![erc-20-func](erc20-common-func.png)\n",
    "---\n",
    "- First 3 functions = token\n",
    "- Next 3 functions = smartContract (important - do not send tokens to contract = many new dev's lost their money this way)\n",
    "- Final 3 functions - optional - mostly in Tokens, but are optional \n",
    "---\n",
    "### vs NFT\n",
    "- NFT = no two are the same\n",
    "- all unique "
   ]
  },
  {
   "attachments": {},
   "cell_type": "markdown",
   "metadata": {},
   "source": [
    "**Setting up the environment**\n",
    "==============================\n",
    "\n",
    "Let's set up your dev environment! You will need Node.js and we will also be using **Hardhat** as our development framework.\n",
    "\n",
    "To do this you'll need to do the following:\n",
    "\n",
    "1.  Install Node.js 12.0 or greater (or upgrade your Node.js installation to 12.0 or greater)\n",
    "2.  Install a code editor (if you don't already have a code editor)\n",
    "3.  Install the Solidity extension\n",
    "\n",
    "Below I explain how to do each of these.\n",
    "\n"
   ]
  },
  {
   "attachments": {},
   "cell_type": "markdown",
   "metadata": {},
   "source": [
    "**1\\. Install Node.js**\n",
    "-----------------------\n",
    "\n",
    "Most Ethereum libraries and tools are written in JavaScript, and so is Hardhat. If you're not familiar with Node.js, it's a JavaScript runtime built on Chrome's V8 JavaScript engine. It's the most popular solution to run JavaScript outside of a web browser and Hardhat is built on top of it.\n",
    "\n",
    "You can skip this section if you already have a working Node.js `>=12.0` installation. If not, here's how to install it on Ubuntu, MacOS and Windows.\n",
    "\n",
    "### Linux/Ubuntu\n",
    "\n",
    "Make sure you have `git` installed. Otherwise, follow [these instructions](https://www.atlassian.com/git/tutorials/install-git).\n",
    "\n",
    "Copy and paste these commands in a terminal:\n",
    "\n",
    "sudo apt update\n",
    "sudo apt install curl git\n",
    "curl -sL https://deb.nodesource.com/setup\\_12.x | sudo -E bash -\n",
    "sudo apt install nodejs\n",
    "\n",
    "### MacOS\n",
    "\n",
    "Make sure you have `git` installed. Otherwise, follow [these instructions](https://www.atlassian.com/git/tutorials/install-git).\n",
    "\n",
    "There are multiple ways of installing Node.js on MacOS. We will be using [Node Version Manager (nvm)](http://github.com/creationix/nvm). Copy and paste these commands in a terminal:\n",
    "\n",
    "curl -o- https://raw.githubusercontent.com/creationix/nvm/v0.35.2/install.sh | bash\n",
    "nvm install 12\n",
    "nvm use 12\n",
    "nvm alias default 12\n",
    "npm install npm --global # Upgrade npm to the latest version\n",
    "\n",
    "### Windows\n",
    "\n",
    "Installing Node.js on Windows requires a few manual steps. Download and run these:\n",
    "\n",
    "1.  First install Git from [here](https://github.com/git-for-windows/git/releases/latest).\n",
    "2.  Download node-v12.XX.XX-x64.msi file from [here](https://nodejs.org/dist/latest-v12.x/ ).\n",
    "\n",
    "If you don't have a terminal to enter commands yet, I recommend using Git Bash from [here](https://gitforwindows.org/). This will give you a similar terminal to those with Mac or Linux.\n",
    "\n",
    "  \n",
    "\n",
    "**2\\. Install Visual Studio Code**\n",
    "----------------------------------\n",
    "\n",
    "If you do not already have a code editor installed, then download and install VS Code from [here](https://code.visualstudio.com/download).\n",
    "\n",
    "  \n",
    "\n",
    "**3\\. Install Solidity extension**\n",
    "----------------------------------\n",
    "\n",
    "Install the Solidity extension either [here](https://marketplace.visualstudio.com/items?itemName=JuanBlanco.solidity) or [here](https://marketplace.visualstudio.com/items?itemName=ylrednet.ytidilos).\n",
    "\n",
    "You can see a list of alternative development frameworks over at [https://ethereum.org/en/developers/local-environment/](https://ethereum.org/en/developers/local-environment). \n",
    "\n",
    "  "
   ]
  },
  {
   "attachments": {},
   "cell_type": "markdown",
   "metadata": {},
   "source": [
    "### Getting it running\n",
    "The below code can be used to run the project setup, and should be used in case the commands you ran from the course caused any issues.\n",
    "\n",
    "```\n",
    "mkdir my-project\n",
    "cd my-project\n",
    "npm init --yes                              // creates JSON\n",
    "npm install --save-dev hardhat              // downloads hardhat\n",
    "npm install --save-dev \n",
    "\n",
    "npx hardhat\n",
    "> Choose: Create an advanced sample project that uses TypeScript\n",
    "```"
   ]
  },
  {
   "attachments": {},
   "cell_type": "markdown",
   "metadata": {},
   "source": [
    "## Memory / Storage / Calldata\n",
    "\n",
    "### 3 keywords\n",
    "---\n",
    "- *storage* - state variable, stored on blockchain\n",
    "- *memory* - variable is in memory, exists only while function is being called\n",
    "- *calldata* - special data location, like memory but cheaper"
   ]
  },
  {
   "attachments": {},
   "cell_type": "markdown",
   "metadata": {},
   "source": [
    "# Global variable msg\n",
    "\n",
    "- msg.sender:       sender of the message\n",
    "- msg.value:        number of ether sent (in Wei)\n",
    "- msg.data:         calldata\n",
    "- msg.sig:          first four bytes of calldata\n"
   ]
  },
  {
   "attachments": {},
   "cell_type": "markdown",
   "metadata": {},
   "source": [
    "we use *Sender* and *Value* most often"
   ]
  },
  {
   "attachments": {},
   "cell_type": "markdown",
   "metadata": {},
   "source": [
    "msg.data - usually not called directly, they're essentially the parameters within a function \n",
    "\n",
    "msg.sig - how are the 4 bytes calculate? \n",
    "- function name\n",
    "- function input parameter types\n",
    "- hash256 of this\n",
    "- solidity does this itself\n",
    "\n",
    " as such, we rarely need to access msg.sig ourselves\n",
    "---\n",
    "most notable is that there can be collisions with this 4 byte calculation and there have been attacks targetting this, so just something to be aware of. \n"
   ]
  },
  {
   "attachments": {},
   "cell_type": "markdown",
   "metadata": {},
   "source": [
    "# Address\n",
    "\n",
    "- 20 bytes long \n",
    "- can be Normal or Payable\n",
    "- basically the same, but PAYABLE can receive Ether \n",
    "\n",
    "### Example of transfering "
   ]
  },
  {
   "cell_type": "code",
   "execution_count": null,
   "metadata": {
    "vscode": {
     "languageId": "javascript"
    }
   },
   "outputs": [],
   "source": [
    "// vulnerable\n",
    "payMeBackLess(msg.sender).transfer(amount);\n",
    "\n",
    "// is the same as (but this is safer)\n",
    "(bool, success,) = payable(msg.sender).call{gas:2300,value:amount}(\"\"); // limits how much gas can be used\n",
    "require(success, \"Transfer Failed.\");\n",
    "\n",
    "// better\n",
    "(bool, success,) = payable(msg.sender).call{ value: amount}(\"\");        // better to leave gas field empty\n",
    "require(success, \"Transfer failed.\");                                   // gas will instead use any gas left in the contract"
   ]
  },
  {
   "attachments": {},
   "cell_type": "markdown",
   "metadata": {},
   "source": [
    "below is pretty much the entire required syntax for an ERC20 token"
   ]
  },
  {
   "cell_type": "code",
   "execution_count": null,
   "metadata": {
    "vscode": {
     "languageId": "javascript"
    }
   },
   "outputs": [],
   "source": [
    "// SPDIX-Licence-Identification: MIT\n",
    "pragma solidity 0.8.11;\n",
    "\n",
    "\n",
    "contract ERC20 {\n",
    "    // declare our variables (this is a strongly typed language remember)\n",
    "    uint256 public totalSupply;\n",
    "    string public name;\n",
    "    string public symbol;\n",
    "    // uint public decimals;\n",
    "\n",
    "    // we need some where to map our balences\n",
    "    mapping(address => uint256) public balanceOf; \n",
    "    mapping(address => mapping(address => uint256)) public allowance;\n",
    "\n",
    "    constructor(string memory _name, string memory _symbol) {\n",
    "        name = _name;\n",
    "        symbol = _symbol;\n",
    "    }\n",
    "\n",
    "    function decimals() external pure returns (uint8) {     // declaring it here is cheaper from gas PoV\n",
    "        return 18;\n",
    "    }\n",
    "\n",
    "    function transfer(address recipient, uint256 amount) external returns (bool) {\n",
    "        require(recipient != address(0), 'ERC20: transfer to sero address');\n",
    "        \n",
    "        uint256 senderBalance = balanceOf[msg.sender];\n",
    "\n",
    "        require(senderBalance >= amount, 'ERC20: transfer amount exceed balance');\n",
    "\n",
    "        balanceOf[msg.sender] = senderBalance - amount;\n",
    "        balanceOf[recipient] += amount;\n",
    "\n",
    "        return true;\n",
    "    }\n",
    "\n",
    "        function decimals() external pure returns (uint8) {     // declaring it here is cheaper from gas PoV\n",
    "        return 18;\n",
    "    }\n",
    "\n",
    "    function transfer(address recipient, uint256 amount) external returns (bool) {\n",
    "        return _transfer((msg.sender, recipient, amount);\n",
    "    }\n",
    "\n",
    "    function transferFrom(address sender, address recipient, uint256 amount) external returns (bool) {\n",
    "        uint256 currentAllowance = allowance[sender][msg.sender];\n",
    "\n",
    "        require(\n",
    "            currentAllowance >= amount,\n",
    "            \"ERC20: transfer not allowed\"\n",
    "        );\n",
    "\n",
    "        allowance[sender][msg.sender] = currentAllowance - amount;\n",
    "        \n",
    "        return _transfer((sender, recipient, amount);\n",
    "    }\n",
    "\n",
    "    function approve(address sender, uint256 amount) external returns(bool) {\n",
    "        require(sender != address(0), 'ERC20: approve to the zero address');\n",
    "\n",
    "        allowance[msg.sender][spender] = amount;\n",
    "\n",
    "        return true;\n",
    "    }\n",
    "\n",
    "    function _transferAddress(address recipient, uint256 amount) private returns (bool) {\n",
    "        require(recipient != address(0), 'ERC20: transfer to sero address');\n",
    "        \n",
    "        uint256 senderBalance = balanceOf[sender];\n",
    "\n",
    "        require(senderBalance >= amount, 'ERC20: transfer amount exceed balance');\n",
    "\n",
    "        balanceOf[sender] = senderBalance - amount;\n",
    "        balanceOf[recipient] += amount;\n",
    "\n",
    "        return true;\n",
    "    }\n",
    "}"
   ]
  },
  {
   "attachments": {},
   "cell_type": "markdown",
   "metadata": {},
   "source": [
    "this can technically be deployed to the Ethereum blockchain now, though it is still missing events, so we will look at those next: "
   ]
  },
  {
   "attachments": {},
   "cell_type": "markdown",
   "metadata": {},
   "source": [
    "first we might want to test the contract. We could consider uploading it to a testNet and engaging the contract that way. but this takes a lot of time, even testing small things can take a lot of time. \n",
    "---\n",
    "## Automated Testing\n",
    "\n",
    "Interestingly, when you consider Automated testing vs the code required for a typical smartContract - you may actually produce more code for the testing than you do for the smart contract \n",
    "\n",
    "### Unit Testing\n",
    "- test small units of the code at a time\n",
    "### Integration Testing\n",
    "- test the code all at once \n",
    "---\n",
    "To test, we want a blockchain that runs on our computer. \n",
    "- use a simple library like the JavaScript library; **Mocha**\n",
    "\n",
    "![mocha](mocha-js-library.png)"
   ]
  },
  {
   "attachments": {},
   "cell_type": "markdown",
   "metadata": {},
   "source": [
    "![mocha-2](mocha-example.png)"
   ]
  },
  {
   "attachments": {},
   "cell_type": "markdown",
   "metadata": {},
   "source": [
    "- we describe tests for different scenarios\n",
    "\n",
    "![tests-ex](testing-example.png)\n"
   ]
  },
  {
   "attachments": {},
   "cell_type": "markdown",
   "metadata": {},
   "source": [
    "We can break that down: \n",
    "\n",
    "![test-1](test-1-deploy.png)\n",
    "\n",
    "- we're saying that each time the contract is deployed\n",
    "- we expect positive\n",
    "\n",
    "![test-2](test-2-describe-amount.png)\n",
    "\n",
    "- we are going to mint a defined number of coins for this test\n",
    "- we expect a positive result\n",
    "\n",
    "![test-3](test-3-transfer-ten.png)\n",
    "\n",
    "- we want to test what happens when we transfer an amount of coins that we know we have\n",
    "- we also want to verify that the transfer happened\n",
    "- we expect a positive result \n",
    "\n",
    "![test-4](test-4-transfer-too-many.png)\n",
    "\n",
    "- we want to know what happens when we try to transfer more than we own\n",
    "- we expect this to fail (but in a known way) \n",
    "- expect negative\n"
   ]
  },
  {
   "cell_type": "markdown",
   "metadata": {},
   "source": []
  }
 ],
 "metadata": {
  "language_info": {
   "name": "python"
  },
  "orig_nbformat": 4
 },
 "nbformat": 4,
 "nbformat_minor": 2
}
