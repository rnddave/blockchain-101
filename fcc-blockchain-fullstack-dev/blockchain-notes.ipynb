{
 "cells": [
  {
   "attachments": {},
   "cell_type": "markdown",
   "metadata": {},
   "source": [
    "# Main Links\n",
    "\n",
    "- [Githib Repo](https://github.com/smartcontractkit/full-blockchain-solidity-course-js#lesson-0-the-edge-of-the-rabbit-hole)\n",
    "- [YouTube - Vid](https://www.youtube.com/watch?v=gyMwXuJrbJQ)\n",
    "\n",
    "---\n",
    "\n",
    "-   [Github Discussions](https://github.com/smartcontractkit/full-blockchain-solidity-course-js/discussions)\n",
    "    -   Ask questions and chat about the course here!\n",
    "-   [Stack Exchange Ethereum](https://ethereum.stackexchange.com/)\n",
    "    -   Great place for asking technical questions about Ethereum\n",
    "-   [StackOverflow](https://stackoverflow.com/)\n",
    "    -   Great place for asking technical questions overall\n",
    "\n",
    "---\n",
    "\n",
    "- [Remix](https://remix.ethereum.org/)\n",
    "- [Solidity Documentation](https://docs.soliditylang.org/en/latest/index.html)\n",
    "\n",
    "---"
   ]
  },
  {
   "cell_type": "markdown",
   "metadata": {},
   "source": []
  }
 ],
 "metadata": {
  "language_info": {
   "name": "python"
  },
  "orig_nbformat": 4
 },
 "nbformat": 4,
 "nbformat_minor": 2
}
