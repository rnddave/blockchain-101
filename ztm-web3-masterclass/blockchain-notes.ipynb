{
 "cells": [
  {
   "attachments": {},
   "cell_type": "markdown",
   "metadata": {},
   "source": [
    "### web links of interest\n",
    "\n",
    "- [51% attack](https://www.investopedia.com/terms/1/51-attack.asp)\n",
    "- [bitcoin blockchain explorer](https://www.blockchain.com/explorer?view=btc)\n",
    "- [ethereum blockchain explorer](https://www.blockchain.com/explorer/assets/eth)\n",
    "\n"
   ]
  },
  {
   "attachments": {},
   "cell_type": "markdown",
   "metadata": {},
   "source": [
    "# Bitcoin Blockchain\n",
    "\n",
    "- bitcoin is both a blockchain AND currency that uses that blockchain \n",
    "- each block only contains part of the history of the blockchain\n",
    "\n",
    "![block of the blockchain](btc-blockchain.png)\n",
    "\n"
   ]
  },
  {
   "attachments": {},
   "cell_type": "markdown",
   "metadata": {},
   "source": [
    "- the smallest fraction of a bitcoin = 1/100,000,000 = 1 **satoshi**"
   ]
  },
  {
   "attachments": {},
   "cell_type": "markdown",
   "metadata": {},
   "source": [
    "## Distributed Ledger\n",
    "\n",
    "- a blockchain = distributed ledger\n",
    "- taken from world of accounting\n",
    "- **Journal** - record of all transactions by a company - in sequential order\n",
    "- **Ledger** - every financial transaction - by account and type\n",
    "- Ledger keeps record of the account balances \n",
    "\n",
    "- blockchain miners = accountants - keeping a journal of transactions up to date \n",
    "---\n",
    "### Different blockchains act differently \n",
    "- 2 main approaches to understand the ledger \n",
    "---\n",
    "- UTXO Set\n",
    "- Unspent Transaction Output Set\n",
    "- keeps track of currency NOT spent ??? \n",
    "- this is on the blockchain\n",
    "- this = ledger\n",
    "- UTXO = running total of the balances of each address\n"
   ]
  },
  {
   "attachments": {},
   "cell_type": "markdown",
   "metadata": {},
   "source": [
    "# Ethereum\n",
    "\n",
    "- this blockchain does not use the UTXO set\n",
    "- it uses a database of states\n",
    "- this **State Database** keeps a running total of balance for every single ethereum address\n",
    "- similar to Bitcoin Blockchain, it is simpler, but a little less private "
   ]
  },
  {
   "cell_type": "markdown",
   "metadata": {},
   "source": []
  }
 ],
 "metadata": {
  "language_info": {
   "name": "python"
  },
  "orig_nbformat": 4
 },
 "nbformat": 4,
 "nbformat_minor": 2
}
