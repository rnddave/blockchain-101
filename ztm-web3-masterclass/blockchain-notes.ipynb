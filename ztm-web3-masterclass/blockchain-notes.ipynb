{
 "cells": [
  {
   "attachments": {},
   "cell_type": "markdown",
   "metadata": {},
   "source": [
    "### web links of interest\n",
    "\n",
    "- [51% attack](https://www.investopedia.com/terms/1/51-attack.asp)\n",
    "- [blockchain explorer](https://www.blockchain.com/explorer?view=btc)\n",
    "\n"
   ]
  },
  {
   "attachments": {},
   "cell_type": "markdown",
   "metadata": {},
   "source": [
    "# Bitcoin Blockchain\n",
    "\n",
    "- bitcoin is both a blockchain AND currency that uses that blockchain \n",
    "- each block only contains part of the history of the blockchain\n",
    "\n",
    "![block of the blockchain](btc-blockchain.png)\n",
    "\n"
   ]
  },
  {
   "cell_type": "markdown",
   "metadata": {},
   "source": []
  }
 ],
 "metadata": {
  "language_info": {
   "name": "python"
  },
  "orig_nbformat": 4
 },
 "nbformat": 4,
 "nbformat_minor": 2
}
