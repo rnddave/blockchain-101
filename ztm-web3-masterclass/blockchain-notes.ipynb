{
 "cells": [
  {
   "attachments": {},
   "cell_type": "markdown",
   "metadata": {},
   "source": [
    "### web links of interest\n",
    "\n",
    "- [51% attack](https://www.investopedia.com/terms/1/51-attack.asp)\n",
    "- [bitcoin blockchain explorer](https://www.blockchain.com/explorer?view=btc)\n",
    "- [ethereum blockchain explorer](https://www.blockchain.com/explorer/assets/eth)\n",
    "- [protecting privacy with bitcoin](https://bitcoin.org/en/protect-your-privacy)\n",
    "- [How does a target hash work](https://learnmeabitcoin.com/technical/target)\n",
    "- [Cambridge BitCoin Electricity Consumption Index](https://ccaf.io/cbeci/index)"
   ]
  },
  {
   "attachments": {},
   "cell_type": "markdown",
   "metadata": {},
   "source": [
    "# Bitcoin Blockchain\n",
    "\n",
    "- bitcoin is both a blockchain AND currency that uses that blockchain \n",
    "- each block only contains part of the history of the blockchain\n",
    "\n",
    "![block of the blockchain](btc-blockchain.png)\n",
    "\n"
   ]
  },
  {
   "attachments": {},
   "cell_type": "markdown",
   "metadata": {},
   "source": [
    "- the smallest fraction of a bitcoin = 1/100,000,000 = 1 **satoshi**"
   ]
  },
  {
   "attachments": {},
   "cell_type": "markdown",
   "metadata": {},
   "source": [
    "## Distributed Ledger\n",
    "\n",
    "- a blockchain = distributed ledger\n",
    "- taken from world of accounting\n",
    "- **Journal** - record of all transactions by a company - in sequential order\n",
    "- **Ledger** - every financial transaction - by account and type\n",
    "- Ledger keeps record of the account balances \n",
    "\n",
    "- blockchain miners = accountants - keeping a journal of transactions up to date \n",
    "---\n",
    "### Different blockchains act differently \n",
    "- 2 main approaches to understand the ledger \n",
    "---\n",
    "- UTXO Set\n",
    "- Unspent Transaction Output Set\n",
    "- keeps track of currency NOT spent ??? \n",
    "- this is on the blockchain\n",
    "- this = ledger\n",
    "- UTXO = running total of the balances of each address\n"
   ]
  },
  {
   "attachments": {},
   "cell_type": "markdown",
   "metadata": {},
   "source": [
    "# Ethereum\n",
    "\n",
    "- this blockchain does not use the UTXO set\n",
    "- it uses a database of states\n",
    "- this **State Database** keeps a running total of balance for every single ethereum address\n",
    "- similar to Bitcoin Blockchain, it is simpler, but a little less private "
   ]
  },
  {
   "attachments": {},
   "cell_type": "markdown",
   "metadata": {},
   "source": [
    "## Wallets / Addresses / Privacy \n",
    "\n",
    "- common for a wallet to havbe multiple addresses \n",
    "\n",
    "![wallet-vs-address](wallet-vs-address.png)\n"
   ]
  },
  {
   "attachments": {},
   "cell_type": "markdown",
   "metadata": {},
   "source": [
    "- Bitcoin community **Recommends** use a new address for EACH transaction \n",
    "- even suggesting multiple wallets with multiple addresses for different transaction types\n",
    "- it makes it very difficult to identify who has what \n",
    "\n",
    "## Transparency vs Privacy \n",
    "\n",
    "- they don't need to be mutually exclusive \n",
    "- all the transactions are open and transparant \n",
    "- but who owns those addresses is not transparant\n",
    "\n",
    "---\n",
    "\n",
    "- using multiple addresses for different types of transactions makes it difficult to know who owns what \n",
    "- basically to minimise the amount of transaction history that is available on the blockchain \n",
    "\n",
    "---\n",
    "\n",
    "- Other blockchains work in similar ways\n",
    "- it's a bit more effort for you \n",
    "- but it does increase your ability to have some privacy regarding your assets\n",
    "\n"
   ]
  },
  {
   "attachments": {},
   "cell_type": "markdown",
   "metadata": {},
   "source": [
    "# The Double Spend Problem\n",
    "\n",
    "- **Consensus** \n",
    "- getting agreement across the blockchain network \n",
    "- transactions need to be in order \n",
    "- to prevent someone spending the same money more than once \n",
    "- distributed finance - we need to keep consensus accross participants "
   ]
  },
  {
   "attachments": {},
   "cell_type": "markdown",
   "metadata": {},
   "source": [
    "## Proof of Work\n",
    "\n",
    "- agreement on true state of blockchain & keep it secure\n",
    "- forces anyone who wants to verify transactions needs to do a lot of work \n",
    "- **Mining** - Miner gets the reward as an incentive for giving their computer power to the network \n",
    "---\n",
    "- the smaller the hash = the harder the problem \n",
    "- we use a nonce, we calculate the hash, is it in the right range? \n",
    "- if not, we chose a new nonce and try again\n",
    "- if we find it, we win, then broadcast to the entire network \n",
    "- anyone else on the network can verify this is correct nonce \n",
    "---\n",
    "- a hash is technically easy to compute\n",
    "- Bitcoin uses Sha256 (other blockchains may use different)\n",
    "- Proof of work becomes more difficult as the power of computers increases \n",
    "- proof of work is kind of like a lotto\n",
    "- if people find the answers too quickly, the difficulty level increases\n",
    "- blockchains like Bitcoin take several blocks before a transaction is considered secure \n",
    "- the older the block, the more secure the transaction \n",
    "- wait several blocks before you consider the transaction final \n",
    "- usually you might want to wait for more blocks if the value is greater \n",
    "- nothing requires trust, the power of the network fights back against the odd nefarious user"
   ]
  },
  {
   "attachments": {},
   "cell_type": "markdown",
   "metadata": {},
   "source": [
    "- Problem with PoW = energy cost \n",
    "\n",
    "![cambridge Electricity Index](cambs-elec-index.png)"
   ]
  },
  {
   "attachments": {},
   "cell_type": "markdown",
   "metadata": {},
   "source": [
    "- energy consumption = biggest reason not to go for Proof of Work \n",
    "- "
   ]
  }
 ],
 "metadata": {
  "language_info": {
   "name": "python"
  },
  "orig_nbformat": 4
 },
 "nbformat": 4,
 "nbformat_minor": 2
}
