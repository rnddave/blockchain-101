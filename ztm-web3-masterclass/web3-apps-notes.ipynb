{
 "cells": [
  {
   "attachments": {},
   "cell_type": "markdown",
   "metadata": {},
   "source": [
    "# Crypto Currency\n",
    "\n",
    "- [Coin Market Capitilisation - different coins](https://coinmarketcap.com/)\n",
    "---\n",
    "- digital currency\n",
    "- non-fiat\n",
    "- does not rely on central authority\n",
    "- ergo decentralised finance (DeFi)\n",
    "---\n",
    "- middle parties or central authorities decide what we can do with our money \n",
    "- cryptocurrencies don't rely on this central authority\n",
    "- rules are followed automatically \n",
    "- rules distributed across the blockchain\n",
    "- everyone knows the rules (or can see them)\n",
    "- we don't really need middleman to allow us to pass money to others \n",
    "---\n",
    "### Market cap\n",
    "\n",
    "- market cap = the price of 1 coin * total amount of coins available \n",
    "- bigger market cap = usually the more trusted\n",
    "---"
   ]
  },
  {
   "attachments": {},
   "cell_type": "markdown",
   "metadata": {},
   "source": [
    "# Coins vs Tokens (storing Value & Mine-ability)\n",
    "\n",
    "### Coins\n",
    "- coins = reward for mining\n",
    "- native to the blockchain \n",
    "- Bitcoin etc \n",
    "\n",
    "### Tokens\n",
    "- running on another blockchain\n",
    "- don't have own blockchain\n",
    "- example *Tether*, *USDC* etc\n",
    "---\n",
    "## Transactional or Store of Value \n",
    "\n",
    "### Store of Value\n",
    "\n",
    "- Gold, Bitcoin\n",
    "- they can be left for years, the value usually only increases\n",
    "- Rarity = explains the value\n",
    "- finite limited total supply of bitcoin = the price will increase\n",
    "\n",
    "### Transactional\n",
    "\n",
    "- Ripple (XRP), Stella (XRM), etc\n",
    "- lower fees to use\n",
    "- better for transactions of low value \n",
    "- designed to avoid some of the drawbacks of Bitcoin for example\n",
    "---\n",
    "- Know more about [Ripple](https://xrpl.org/faq.html)\n",
    "- worth knowing that Ripple collaborates with financial institutions around the world\n",
    "- this reduces the 'decentralised' status of the token.\n",
    "- but there are reduced fees, so there are some benefits to consider as well\n",
    "---\n",
    "\n",
    "### Mineable\n",
    "\n",
    "- you can claim ownership as a reward for doing the hashing of blocks etc \n",
    "\n",
    "### Non-mineable\n",
    "\n",
    "- Ripple (XRP) = example\n",
    "- whoever created the coin/token owns them all\n",
    "- they are usually distributed in the form of an ICO \n",
    "- ICO = you trade other crypto to buy these new coins/tokens\n"
   ]
  },
  {
   "cell_type": "markdown",
   "metadata": {},
   "source": []
  }
 ],
 "metadata": {
  "language_info": {
   "name": "python"
  },
  "orig_nbformat": 4
 },
 "nbformat": 4,
 "nbformat_minor": 2
}
