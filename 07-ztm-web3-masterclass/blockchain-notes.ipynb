{
 "cells": [
  {
   "attachments": {},
   "cell_type": "markdown",
   "metadata": {},
   "source": [
    "### web links of interest\n",
    "\n",
    "- [51% attack](https://www.investopedia.com/terms/1/51-attack.asp)\n",
    "- [bitcoin blockchain explorer](https://www.blockchain.com/explorer?view=btc)\n",
    "- [ethereum blockchain explorer](https://www.blockchain.com/explorer/assets/eth)\n",
    "- [protecting privacy with bitcoin](https://bitcoin.org/en/protect-your-privacy)\n",
    "- [How does a target hash work](https://learnmeabitcoin.com/technical/target)\n",
    "- [Cambridge BitCoin Electricity Consumption Index](https://ccaf.io/cbeci/index)"
   ]
  },
  {
   "attachments": {},
   "cell_type": "markdown",
   "metadata": {},
   "source": [
    "# Bitcoin Blockchain\n",
    "\n",
    "- bitcoin is both a blockchain AND currency that uses that blockchain \n",
    "- each block only contains part of the history of the blockchain\n",
    "\n",
    "![block of the blockchain](btc-blockchain.png)\n",
    "\n"
   ]
  },
  {
   "attachments": {},
   "cell_type": "markdown",
   "metadata": {},
   "source": [
    "- the smallest fraction of a bitcoin = 1/100,000,000 = 1 **satoshi**"
   ]
  },
  {
   "attachments": {},
   "cell_type": "markdown",
   "metadata": {},
   "source": [
    "## Distributed Ledger\n",
    "\n",
    "- a blockchain = distributed ledger\n",
    "- taken from world of accounting\n",
    "- **Journal** - record of all transactions by a company - in sequential order\n",
    "- **Ledger** - every financial transaction - by account and type\n",
    "- Ledger keeps record of the account balances \n",
    "\n",
    "- blockchain miners = accountants - keeping a journal of transactions up to date \n",
    "---\n",
    "### Different blockchains act differently \n",
    "- 2 main approaches to understand the ledger \n",
    "---\n",
    "- UTXO Set\n",
    "- Unspent Transaction Output Set\n",
    "- keeps track of currency NOT spent ??? \n",
    "- this is on the blockchain\n",
    "- this = ledger\n",
    "- UTXO = running total of the balances of each address\n"
   ]
  },
  {
   "attachments": {},
   "cell_type": "markdown",
   "metadata": {},
   "source": [
    "# Ethereum\n",
    "\n",
    "- this blockchain does not use the UTXO set\n",
    "- it uses a database of states\n",
    "- this **State Database** keeps a running total of balance for every single ethereum address\n",
    "- similar to Bitcoin Blockchain, it is simpler, but a little less private "
   ]
  },
  {
   "attachments": {},
   "cell_type": "markdown",
   "metadata": {},
   "source": [
    "## Wallets / Addresses / Privacy \n",
    "\n",
    "- common for a wallet to havbe multiple addresses \n",
    "\n",
    "![wallet-vs-address](wallet-vs-address.png)\n"
   ]
  },
  {
   "attachments": {},
   "cell_type": "markdown",
   "metadata": {},
   "source": [
    "- Bitcoin community **Recommends** use a new address for EACH transaction \n",
    "- even suggesting multiple wallets with multiple addresses for different transaction types\n",
    "- it makes it very difficult to identify who has what \n",
    "\n",
    "## Transparency vs Privacy \n",
    "\n",
    "- they don't need to be mutually exclusive \n",
    "- all the transactions are open and transparant \n",
    "- but who owns those addresses is not transparant\n",
    "\n",
    "---\n",
    "\n",
    "- using multiple addresses for different types of transactions makes it difficult to know who owns what \n",
    "- basically to minimise the amount of transaction history that is available on the blockchain \n",
    "\n",
    "---\n",
    "\n",
    "- Other blockchains work in similar ways\n",
    "- it's a bit more effort for you \n",
    "- but it does increase your ability to have some privacy regarding your assets\n",
    "\n"
   ]
  },
  {
   "attachments": {},
   "cell_type": "markdown",
   "metadata": {},
   "source": [
    "# The Double Spend Problem\n",
    "\n",
    "- **Consensus** \n",
    "- getting agreement across the blockchain network \n",
    "- transactions need to be in order \n",
    "- to prevent someone spending the same money more than once \n",
    "- distributed finance - we need to keep consensus accross participants "
   ]
  },
  {
   "attachments": {},
   "cell_type": "markdown",
   "metadata": {},
   "source": [
    "## Proof of Work\n",
    "\n",
    "- agreement on true state of blockchain & keep it secure\n",
    "- forces anyone who wants to verify transactions needs to do a lot of work \n",
    "- **Mining** - Miner gets the reward as an incentive for giving their computer power to the network \n",
    "---\n",
    "- the smaller the hash = the harder the problem \n",
    "- we use a nonce, we calculate the hash, is it in the right range? \n",
    "- if not, we chose a new nonce and try again\n",
    "- if we find it, we win, then broadcast to the entire network \n",
    "- anyone else on the network can verify this is correct nonce \n",
    "---\n",
    "- a hash is technically easy to compute\n",
    "- Bitcoin uses Sha256 (other blockchains may use different)\n",
    "- Proof of work becomes more difficult as the power of computers increases \n",
    "- proof of work is kind of like a lotto\n",
    "- if people find the answers too quickly, the difficulty level increases\n",
    "- blockchains like Bitcoin take several blocks before a transaction is considered secure \n",
    "- the older the block, the more secure the transaction \n",
    "- wait several blocks before you consider the transaction final \n",
    "- usually you might want to wait for more blocks if the value is greater \n",
    "- nothing requires trust, the power of the network fights back against the odd nefarious user"
   ]
  },
  {
   "attachments": {},
   "cell_type": "markdown",
   "metadata": {},
   "source": [
    "- Problem with PoW = energy cost \n",
    "\n",
    "![cambridge Electricity Index](cambs-elec-index.png)"
   ]
  },
  {
   "attachments": {},
   "cell_type": "markdown",
   "metadata": {},
   "source": [
    "- energy consumption = biggest reason not to go for Proof of Work "
   ]
  },
  {
   "attachments": {},
   "cell_type": "markdown",
   "metadata": {},
   "source": [
    "# Proof of Stake\n",
    "\n",
    "- another approach to reaching consensus\n",
    "- makes blockchain more complelling to main critics \n",
    "- you set aside some coins as a staker\n",
    "- you are randomly selected as a validator \n",
    "- if you add an invalid block, you lose some of your coins \n",
    "---\n",
    "- how many coins are you willing to set aside? \n",
    "- more coins, more likely to be selected for validation\n",
    "- if you submit a valid block, you receive more coins as a reward\n",
    "- more coins staked = more chances to win the lotto \n",
    "- people that stake = **Validator** not miners (but sometimes they are used interchangably)"
   ]
  },
  {
   "attachments": {},
   "cell_type": "markdown",
   "metadata": {},
   "source": [
    "## Ethereum is transitioning from PoW to PoS\n",
    "\n",
    "- more environmentally friendly\n",
    "- you can earn interest on the coins you already own \n",
    "- don't need specialist equipment for staking \n",
    "- more people can participate - more people = more decentralised \n",
    "- Is one better than the other (Security wise) \n",
    "- no one really knows yet\n",
    "- PoW has proven itself over a decade\n",
    "- PoS is younger, less proof exists\n",
    "---\n",
    "- usually require a minimum sum of coins to be added to list of validators\n",
    "- you need to be willing to submit a lot of coins to make it to the list \n",
    "- once you're on the list, you just wait until it's your turn \n",
    "- PoS = lotto system, chance of being selected determined by number of coins you staked\n",
    "- some blockchains are different, you might also need to have held coins for a long time, the longer you've held them, the more chance you're the next validator\n",
    "- some blockchains can allow PoS just based on any stake, giving more people the chance to participate, but most seem to be set around the number of coins you're willing to stake. \n",
    "---\n",
    "- there is usually a mechanism that does ensure it doesn't always go to the richest stakers, else the validation and reward will always only go to the richest staker \n",
    "---\n",
    "- if we don't want to be a validator, we just remove our coins "
   ]
  },
  {
   "attachments": {},
   "cell_type": "markdown",
   "metadata": {},
   "source": [
    "# Ethereum\n",
    "\n",
    "- [what is Ethereum](https://ethereum.org/en/what-is-ethereum/)\n",
    "- [OG Ethereum Whitepaper](https://ethereum.org/en/whitepaper/)\n",
    "---\n",
    "- similar ideas\n",
    "- blocks, a chain, but more \n",
    "- more data can be stored (Games, Apps, etc) \n",
    "--- \n",
    "### Each block\n",
    "- Data - Global State\n",
    "- Data - Transactions\n",
    "- Data - Receipts\n",
    "\n",
    "![Ethereum-block](ether-block.png)"
   ]
  },
  {
   "attachments": {},
   "cell_type": "markdown",
   "metadata": {},
   "source": [
    "### Global State\n",
    "\n",
    "- all the accounts on the ethereum network\n",
    "- each account = 20 character address \n",
    "- what is in an account? \n",
    "- Account - Balance\n",
    "- Account - Code (a program / transaction)\n",
    "- Account - Storage \n",
    "\n",
    "![account breakdown](ether-account.png)"
   ]
  },
  {
   "attachments": {},
   "cell_type": "markdown",
   "metadata": {},
   "source": [
    "- the code is immutable as it's on the blockchain (can't be changed after set)\n",
    "---\n",
    "- the code = Smart Contract\n",
    "- the storage = empty when created but used for storing transaction data"
   ]
  },
  {
   "attachments": {},
   "cell_type": "markdown",
   "metadata": {},
   "source": [
    "### Transactions\n",
    "\n",
    "- track all transactions between accounts\n",
    "- gas fees etc\n",
    "- these fees vary depending on what is happening in the transaction\n",
    "- the fees go to the validator - paying for energy needed to perform the transaction \n",
    "- as ethereum get's more popular, the fees are increasing "
   ]
  },
  {
   "attachments": {},
   "cell_type": "markdown",
   "metadata": {},
   "source": [
    "### Receipts\n",
    "\n",
    "- outcome of a transaction etc"
   ]
  },
  {
   "attachments": {},
   "cell_type": "markdown",
   "metadata": {},
   "source": [
    "# Accounts & Smart Contracts\n",
    "\n",
    "### Externally Owned Accounts\n",
    "- owned by people\n",
    "\n",
    "### Contract Account\n",
    "- Ethereum Bytecode \n",
    "- account storage = persistant memory for the code\n",
    "- act automatically \n",
    "- they act in accordance with the code\n",
    "- smart contract starts executing when a transaction triggers it\n",
    "---\n",
    "- we can create Smart Contracts\n",
    "- we can send messages to Smart Conttracts\n",
    "---\n",
    "- Contract Creation\n",
    "- Message calls\n",
    "---\n",
    "### Smart Contracts\n",
    "- can make new smart contracts\n",
    "- can create addresses etc\n",
    "- can get pretty complex\n",
    "- transfering Ether\n",
    "- performing calculations etc \n",
    "---\n",
    "- what happens if someone is malicious? \n",
    "- the gas fees prevent things like DoS attacks etc \n",
    "- ergo gas is not just a reward for validators, it's a mechanism to prevent people attacking the smart contract system \n",
    "--- \n",
    "- Accounts ineract with accounts using **transactions**\n",
    "- Smart Contracts interact with Smart Contracts using **Message Calls**\n"
   ]
  },
  {
   "attachments": {},
   "cell_type": "markdown",
   "metadata": {},
   "source": [
    "# Ethereum Virtual Machine\n",
    "\n",
    "- allows bytecode to run \n",
    "- validators = distributed computer \n",
    "- many of these available\n",
    "- a popular one = **Ethereum Go** \n",
    "---\n",
    "- need a computer of sorts (the tin) \n",
    "- ethereum software (Client / node)\n",
    "- Ethereum Virtual Machine (EVM) \n",
    "- Ethereum Bytecode (sometimes known as EVMCode)\n",
    "\n",
    "![evm-highlevel](evm-hl.png)\n",
    "\n"
   ]
  },
  {
   "attachments": {},
   "cell_type": "markdown",
   "metadata": {},
   "source": [
    "- turing complete blockchain\n",
    "---\n",
    "- means can be used for any computation you can imagine\n",
    "- DOES NOT MEAN - all things need to be on the blockchain"
   ]
  }
 ],
 "metadata": {
  "language_info": {
   "name": "python"
  },
  "orig_nbformat": 4
 },
 "nbformat": 4,
 "nbformat_minor": 2
}
