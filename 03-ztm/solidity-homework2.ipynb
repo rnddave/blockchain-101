{
 "cells": [
  {
   "attachments": {},
   "cell_type": "markdown",
   "metadata": {},
   "source": [
    "# homework:\n",
    "extend our ERC-20 contract with two functions:\n",
    "\n"
   ]
  },
  {
   "attachments": {},
   "cell_type": "markdown",
   "metadata": {},
   "source": [
    "**Deposit**: this is a payable function that will mint the exact amount of msg.value in tokens to the sender.\n",
    "\n"
   ]
  },
  {
   "attachments": {},
   "cell_type": "markdown",
   "metadata": {},
   "source": [
    "**Redeem:** this is a function that will use a private burn function to burn the amount of passed tokens. (Optionally for learning purposes, you can also first use transferFrom to transfer approved tokens from a user to the contract itself, but in our case it's not required). Lastly the redeem function will transfer the burnt amount as Ether value back to the sender.\n"
   ]
  },
  {
   "cell_type": "markdown",
   "metadata": {},
   "source": [
    "Additionally, try writing some basic unit tests for Hardhat and deploy it to Rinkeby. And then try to verify the contract on Etherscan and Sourcify.\n",
    "\n",
    "(If you have issues, please head over to the #blockchain channel in the ZTM Discord community so that I and your fellow students can help you out!)\n",
    "\n",
    "Congratulations! You have just implemented a so-called Wrapped Ether contract, also known as \"WETH\". This is a very popular contract used to simply reflect the Ether currency as an ERC-20. The advantage is that you don’t need special logic to handle either Ether or ERC-20 tokens in this case, rather it will all be ERC-20 tokens. And users can themselves create and redeem the token!"
   ]
  }
 ],
 "metadata": {
  "language_info": {
   "name": "python"
  },
  "orig_nbformat": 4
 },
 "nbformat": 4,
 "nbformat_minor": 2
}
