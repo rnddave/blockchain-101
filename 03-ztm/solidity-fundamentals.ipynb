{
 "cells": [
  {
   "cell_type": "markdown",
   "metadata": {},
   "source": [
    "- [Solidity Documentation](https://docs.soliditylang.org/en/v0.8.13/)\n",
    "\n",
    "- similar to JS, at least at initial glance\n",
    "- important differences\n",
    "- Solidity is a STRONGLY TYPED language\n",
    "- meaning variable types are declared upfront \n",
    "\n",
    "### solc\n",
    "- solidity compiler\n",
    "- produces \n",
    "* Opcodes\n",
    "* Application Binary Interface (ABI)\n",
    "* Metadata\n",
    "\n",
    "### ABI\n",
    "- kind of like an interpretor between smart contract and human\n",
    "- can convert / interpret both ways. "
   ]
  },
  {
   "cell_type": "markdown",
   "metadata": {},
   "source": [
    "### Remix\n",
    "- [Remix Editor](http://remix.ethereum.org/)"
   ]
  },
  {
   "cell_type": "markdown",
   "metadata": {},
   "source": [
    "### License Type \n",
    "- solidity requires a comment at top with license type defined\n",
    "- [spdx - license types](https://spdx.org/licenses)\n",
    "\n",
    "- trainer always uses a MIT license (do whatever you want with this code)"
   ]
  },
  {
   "cell_type": "code",
   "execution_count": null,
   "metadata": {
    "vscode": {
     "languageId": "javascript"
    }
   },
   "outputs": [],
   "source": [
    "// SPDX-License-Identifier: MIT"
   ]
  },
  {
   "cell_type": "markdown",
   "metadata": {},
   "source": [
    "### Pragma\n",
    "- we need to write the solidity version\n",
    "\n",
    "- pragma comes from pragmatic\n",
    "- how to interpret the code\n",
    "- which version this was written for"
   ]
  },
  {
   "cell_type": "code",
   "execution_count": null,
   "metadata": {
    "vscode": {
     "languageId": "javascript"
    }
   },
   "outputs": [],
   "source": [
    "pragma solidity 0.8.11; // can also use ^0.8.0 (all 0.8 and up) but better to be specific"
   ]
  },
  {
   "cell_type": "markdown",
   "metadata": {},
   "source": [
    "and for the contract.... "
   ]
  },
  {
   "cell_type": "code",
   "execution_count": null,
   "metadata": {
    "vscode": {
     "languageId": "javascript"
    }
   },
   "outputs": [],
   "source": [
    "// SPDX-License-Identifier: MIT\n",
    "pragma solidity 0.8.11;\n",
    "\n",
    "contract TheFirstContract {\n",
    "    \n",
    "}"
   ]
  },
  {
   "attachments": {},
   "cell_type": "markdown",
   "metadata": {},
   "source": [
    "there are 2 types of function \n",
    "\n",
    "- read state (view)\n",
    "- change state (normal)\n",
    "\n",
    "### View Function \n",
    "need\n",
    "- function name\n",
    "- function declaration\n",
    "- return type(s)\n",
    "\n",
    "![view function](view-function.png)\n"
   ]
  },
  {
   "attachments": {},
   "cell_type": "markdown",
   "metadata": {},
   "source": [
    "can return multiple types (including different types, not shown here)\n",
    "![return-multi](return-multipl-types.png)"
   ]
  },
  {
   "attachments": {},
   "cell_type": "markdown",
   "metadata": {},
   "source": [
    "uint = unsigned integer (positive number)\n",
    "\n",
    "if we tried to add that example view to our code, we're advised to conver it to a PURE function\n",
    "> DeclarationError: Identifier not found or not unique. --> contracts/4_MyFirst.sol:5:49: | 5 | function getRandomNo() public view returns (unit) { | ^^^^\n",
    "\n",
    "### Pure function \n",
    "- special type of function\n",
    "- doesn't even read any data\n",
    "- we're just returning the number 9 in this silly example\n",
    "- but mostly you will use the view keyword"
   ]
  },
  {
   "attachments": {},
   "cell_type": "markdown",
   "metadata": {},
   "source": [
    "## Normal Function\n",
    "- these change state\n",
    "- more interesting... \n",
    "![normal function example](normal-function-payMeBackLess.png)"
   ]
  },
  {
   "attachments": {},
   "cell_type": "markdown",
   "metadata": {},
   "source": [
    ".transfer is no longer recommended btw ** "
   ]
  },
  {
   "attachments": {},
   "cell_type": "markdown",
   "metadata": {},
   "source": [
    "### Public vs Private functions \n",
    "\n",
    "![Public vs Private](public-vs-private-functions.png)"
   ]
  },
  {
   "cell_type": "code",
   "execution_count": null,
   "metadata": {
    "vscode": {
     "languageId": "javascript"
    }
   },
   "outputs": [],
   "source": [
    "// SPDX-License-Identifier: MIT\n",
    "pragma solidity 0.8.11; \n",
    "\n",
    "contract MyFirst {\n",
    "    function _getRandomNo() private pure returns (uint) {\n",
    "        return 9;\n",
    "    }\n",
    "\n",
    "    function payMeBackLess() public payable {\n",
    "        uint256 randomNumber = _getRandomNo();\n",
    "        uint256 ethRefund = msg.value / randomNumber;\n",
    "        payable(msg.sender).transfer(ethRefund);\n",
    "    }\n",
    "}"
   ]
  },
  {
   "attachments": {},
   "cell_type": "markdown",
   "metadata": {},
   "source": [
    "### Deploying a Contract\n",
    "\n",
    "- just another transaction \n",
    "- where does it go to? \n",
    "- special transaction\n",
    "- no recipient declared "
   ]
  },
  {
   "attachments": {},
   "cell_type": "markdown",
   "metadata": {},
   "source": [
    "## Reverting a transaction \n",
    "- important\n",
    "> revert();\n",
    "\n",
    "example, we may want to check something and if not, then revert\n",
    "> if(myNumber == 9){ revert();} // this says if MyNumber is NOT 9 then revert()\n",
    "\n",
    "### require()\n",
    "although as this is such a common check, you can write this as shorter: \n",
    "> require(MyNumber == 9)    // which is just a shorter version of above\n",
    "\n",
    "make it nicer to read for end user... \n",
    "> require(MyNumber == 9, \"My Number is not 9\");     // this gives error message if not 9"
   ]
  },
  {
   "cell_type": "code",
   "execution_count": null,
   "metadata": {
    "vscode": {
     "languageId": "javascript"
    }
   },
   "outputs": [],
   "source": [
    "// SPDX-License-Identifier: MIT\n",
    "pragma solidity 0.8.11; \n",
    "\n",
    "import \"hardhat/console.sol\"    // we can import from hardhat\n",
    "\n",
    "contract MyFirst {\n",
    "    function getRandomNo() public pure returns (uint) {\n",
    "        return 9;\n",
    "    }\n",
    "\n",
    "    function payMeBackLess() public payable {\n",
    "        uint256 randomNumber = getRandomNo();\n",
    "        console.log(\"this was the random number: \", randomNumber);  // good for debugging\n",
    "        require(randomNumber < 5, 'This will always happen');\n",
    "\n",
    "\n",
    "        uint256 ethRefund = msg.value / randomNumber;\n",
    "        payable(msg.sender).transfer(ethRefund);\n",
    "    }\n",
    "}"
   ]
  },
  {
   "attachments": {},
   "cell_type": "markdown",
   "metadata": {},
   "source": [
    "# HOMEWORK!!! \n",
    "\n",
    "Your homework: similar to our first contract, now write a new contract in Remix with an external payable function which takes a uint number as input parameter:\n",
    "\n",
    "- If the number is even, pay back half of the sent Ether.\n",
    "- If the number is uneven, send back all of the Ether.\n",
    "- And if the number is 9, revert with “We don’t like 9”.\n",
    "\n",
    "Deploy the contract to the Javascript VM and test it. When it’s working, try to deploy it to a testnet, for example Rinkeby. Bonus points if you manage to verify the contract via https://rinkeby.etherscan.io/verifyContract!"
   ]
  },
  {
   "cell_type": "code",
   "execution_count": null,
   "metadata": {
    "vscode": {
     "languageId": "javascript"
    }
   },
   "outputs": [],
   "source": [
    "// attempt 1 (DID NOT WORK)\n",
    "\n",
    "// SPDX-License-Identifier: MIT\n",
    "pragma solidity 0.8.11; \n",
    "\n",
    "import \"hardhat/console.sol\";    // we can import from hardhat\n",
    "\n",
    "contract Homework {\n",
    "    uint public inputNumber;\n",
    "\n",
    "    function getNumber(uint inputNumber) public returns (uint) {\n",
    "        checkNumber(inputNumber);\n",
    "    }\n",
    "    \n",
    "    function checkNumber (uint inputNumber) public payable {\n",
    "        if (inputNumber == 9) {\n",
    "            console.log(\"We don't like this number\");\n",
    "        } else if (inputNumber % 2 != 0) {\n",
    "            payable(msg.sender).transfer(inputNumber);\n",
    "        } else {\n",
    "            payable(msg.sender).transfer(inputNumber / 2);\n",
    "        }\n",
    "    }\n",
    "}"
   ]
  },
  {
   "cell_type": "code",
   "execution_count": null,
   "metadata": {
    "vscode": {
     "languageId": "javascript"
    }
   },
   "outputs": [],
   "source": [
    "// ATTEMPT 2 - Still not working - at least I don't think it is, but don't really know what is happening :(\n",
    "\n",
    "// SPDX-License-Identifier: MIT\n",
    "pragma solidity 0.8.11; \n",
    "\n",
    "import \"hardhat/console.sol\";    // we can import from hardhat\n",
    "\n",
    "contract Homework {\n",
    "    uint theNumber;\n",
    "\n",
    "    function payMeBack(uint theNumber) public payable {\n",
    "        uint256 randomNumber = theNumber;\n",
    "        console.log(\"this was the random number: \", randomNumber);\n",
    "        require(randomNumber != 9, \"We do not like this number\");\n",
    "\n",
    "        \n",
    "        if (randomNumber % 2 != 0) {\n",
    "            uint256 ethRefund = msg.value;\n",
    "            payable(msg.sender).transfer(ethRefund);\n",
    "        } else {\n",
    "            uint256 ethRefund = msg.value / 2;\n",
    "            payable(msg.sender).transfer(ethRefund);\n",
    "        }      \n",
    "    }\n",
    "}"
   ]
  }
 ],
 "metadata": {
  "language_info": {
   "name": "python"
  },
  "orig_nbformat": 4
 },
 "nbformat": 4,
 "nbformat_minor": 2
}
